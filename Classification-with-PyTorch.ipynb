{
 "cells": [
  {
   "cell_type": "code",
   "execution_count": 1,
   "id": "a194dd1b",
   "metadata": {
    "_cell_guid": "b1076dfc-b9ad-4769-8c92-a6c4dae69d19",
    "_uuid": "8f2839f25d086af736a60e9eeb907d3b93b6e0e5",
    "execution": {
     "iopub.execute_input": "2025-02-20T07:41:29.259262Z",
     "iopub.status.busy": "2025-02-20T07:41:29.258987Z",
     "iopub.status.idle": "2025-02-20T07:41:38.401126Z",
     "shell.execute_reply": "2025-02-20T07:41:38.400485Z"
    },
    "papermill": {
     "duration": 9.151947,
     "end_time": "2025-02-20T07:41:38.402634",
     "exception": false,
     "start_time": "2025-02-20T07:41:29.250687",
     "status": "completed"
    },
    "tags": []
   },
   "outputs": [],
   "source": [
    "# This Python 3 environment comes with many helpful analytics libraries installed\n",
    "# It is defined by the kaggle/python Docker image: https://github.com/kaggle/docker-python\n",
    "# For example, here's several helpful packages to load\n",
    "\n",
    "import numpy as np # linear algebra\n",
    "import pandas as pd # data processing, CSV file I/O (e.g. pd.read_csv)\n",
    "import torch \n",
    "import torch.nn as nn\n",
    "import torchvision\n",
    "import plotly.express as px\n",
    "import torchvision.transforms as transforms\n",
    "import torch.optim as optim\n",
    "from torch.utils.data import random_split, ConcatDataset, Dataset\n",
    "import torch.nn.functional as F\n",
    "import optuna\n",
    "import plotly.subplots as sp\n",
    "\n",
    "\n",
    "# Input data files are available in the read-only \"../input/\" directory\n",
    "# For example, running this (by clicking run or pressing Shift+Enter) will list all files under the input directory\n",
    "\n",
    "import os\n",
    "for dirname, _, filenames in os.walk('/kaggle/input'):\n",
    "    for filename in filenames:\n",
    "        print(os.path.join(dirname, filename))\n",
    "\n",
    "# You can write up to 20GB to the current directory (/kaggle/working/) that gets preserved as output when you create a version using \"Save & Run All\" \n",
    "# You can also write temporary files to /kaggle/temp/, but they won't be saved outside of the current session"
   ]
  },
  {
   "cell_type": "markdown",
   "id": "bcb93a8a",
   "metadata": {
    "papermill": {
     "duration": 0.005794,
     "end_time": "2025-02-20T07:41:38.415139",
     "exception": false,
     "start_time": "2025-02-20T07:41:38.409345",
     "status": "completed"
    },
    "tags": []
   },
   "source": [
    "## Load the dataset"
   ]
  },
  {
   "cell_type": "code",
   "execution_count": 2,
   "id": "9bcc68d9",
   "metadata": {
    "execution": {
     "iopub.execute_input": "2025-02-20T07:41:38.427854Z",
     "iopub.status.busy": "2025-02-20T07:41:38.427472Z",
     "iopub.status.idle": "2025-02-20T07:41:45.826500Z",
     "shell.execute_reply": "2025-02-20T07:41:45.825809Z"
    },
    "papermill": {
     "duration": 7.407173,
     "end_time": "2025-02-20T07:41:45.828171",
     "exception": false,
     "start_time": "2025-02-20T07:41:38.420998",
     "status": "completed"
    },
    "tags": []
   },
   "outputs": [
    {
     "name": "stdout",
     "output_type": "stream",
     "text": [
      "Downloading https://www.cs.toronto.edu/~kriz/cifar-10-python.tar.gz to ./cifar-10-python.tar.gz\n"
     ]
    },
    {
     "name": "stderr",
     "output_type": "stream",
     "text": [
      "100%|██████████| 170M/170M [00:03<00:00, 44.1MB/s]\n"
     ]
    },
    {
     "name": "stdout",
     "output_type": "stream",
     "text": [
      "Extracting ./cifar-10-python.tar.gz to ./\n",
      "Files already downloaded and verified\n"
     ]
    }
   ],
   "source": [
    "# Load the training dataset\n",
    "training_set = torchvision.datasets.CIFAR10( root = \"./\",train=True,\n",
    "                                             download=True,transform = transforms.ToTensor() )\n",
    "\n",
    "# Load the test dataset\n",
    "test_set = torchvision.datasets.CIFAR10( root  = \"./\", train=False,\n",
    "                                         download=True, transform = transforms.ToTensor())\n",
    "\n",
    "# Split the test set to validation and test set\n",
    "test_set, validation_set = random_split(test_set, [5000, 5000])\n"
   ]
  },
  {
   "cell_type": "markdown",
   "id": "6ec325ca",
   "metadata": {
    "papermill": {
     "duration": 0.007652,
     "end_time": "2025-02-20T07:41:45.844520",
     "exception": false,
     "start_time": "2025-02-20T07:41:45.836868",
     "status": "completed"
    },
    "tags": []
   },
   "source": [
    "## Visualization"
   ]
  },
  {
   "cell_type": "code",
   "execution_count": 3,
   "id": "ce18acc7",
   "metadata": {
    "execution": {
     "iopub.execute_input": "2025-02-20T07:41:45.860990Z",
     "iopub.status.busy": "2025-02-20T07:41:45.860717Z",
     "iopub.status.idle": "2025-02-20T07:41:45.865743Z",
     "shell.execute_reply": "2025-02-20T07:41:45.865118Z"
    },
    "papermill": {
     "duration": 0.01471,
     "end_time": "2025-02-20T07:41:45.866963",
     "exception": false,
     "start_time": "2025-02-20T07:41:45.852253",
     "status": "completed"
    },
    "tags": []
   },
   "outputs": [
    {
     "data": {
      "text/plain": [
       "Dataset CIFAR10\n",
       "    Number of datapoints: 50000\n",
       "    Root location: ./\n",
       "    Split: Train\n",
       "    StandardTransform\n",
       "Transform: ToTensor()"
      ]
     },
     "execution_count": 3,
     "metadata": {},
     "output_type": "execute_result"
    }
   ],
   "source": [
    "training_set"
   ]
  },
  {
   "cell_type": "code",
   "execution_count": 4,
   "id": "ad70adc1",
   "metadata": {
    "execution": {
     "iopub.execute_input": "2025-02-20T07:41:45.884120Z",
     "iopub.status.busy": "2025-02-20T07:41:45.883890Z",
     "iopub.status.idle": "2025-02-20T07:41:45.954664Z",
     "shell.execute_reply": "2025-02-20T07:41:45.953822Z"
    },
    "papermill": {
     "duration": 0.080877,
     "end_time": "2025-02-20T07:41:45.955908",
     "exception": false,
     "start_time": "2025-02-20T07:41:45.875031",
     "status": "completed"
    },
    "tags": []
   },
   "outputs": [
    {
     "name": "stdout",
     "output_type": "stream",
     "text": [
      "<class 'tuple'>\n",
      "2\n"
     ]
    },
    {
     "data": {
      "text/plain": [
       "(tensor([[[0.2314, 0.1686, 0.1961,  ..., 0.6196, 0.5961, 0.5804],\n",
       "          [0.0627, 0.0000, 0.0706,  ..., 0.4824, 0.4667, 0.4784],\n",
       "          [0.0980, 0.0627, 0.1922,  ..., 0.4627, 0.4706, 0.4275],\n",
       "          ...,\n",
       "          [0.8157, 0.7882, 0.7765,  ..., 0.6275, 0.2196, 0.2078],\n",
       "          [0.7059, 0.6784, 0.7294,  ..., 0.7216, 0.3804, 0.3255],\n",
       "          [0.6941, 0.6588, 0.7020,  ..., 0.8471, 0.5922, 0.4824]],\n",
       " \n",
       "         [[0.2431, 0.1804, 0.1882,  ..., 0.5176, 0.4902, 0.4863],\n",
       "          [0.0784, 0.0000, 0.0314,  ..., 0.3451, 0.3255, 0.3412],\n",
       "          [0.0941, 0.0275, 0.1059,  ..., 0.3294, 0.3294, 0.2863],\n",
       "          ...,\n",
       "          [0.6667, 0.6000, 0.6314,  ..., 0.5216, 0.1216, 0.1333],\n",
       "          [0.5451, 0.4824, 0.5647,  ..., 0.5804, 0.2431, 0.2078],\n",
       "          [0.5647, 0.5059, 0.5569,  ..., 0.7216, 0.4627, 0.3608]],\n",
       " \n",
       "         [[0.2471, 0.1765, 0.1686,  ..., 0.4235, 0.4000, 0.4039],\n",
       "          [0.0784, 0.0000, 0.0000,  ..., 0.2157, 0.1961, 0.2235],\n",
       "          [0.0824, 0.0000, 0.0314,  ..., 0.1961, 0.1961, 0.1647],\n",
       "          ...,\n",
       "          [0.3765, 0.1333, 0.1020,  ..., 0.2745, 0.0275, 0.0784],\n",
       "          [0.3765, 0.1647, 0.1176,  ..., 0.3686, 0.1333, 0.1333],\n",
       "          [0.4549, 0.3686, 0.3412,  ..., 0.5490, 0.3294, 0.2824]]]),\n",
       " 6)"
      ]
     },
     "execution_count": 4,
     "metadata": {},
     "output_type": "execute_result"
    }
   ],
   "source": [
    "print (type(training_set[0]))\n",
    "print (len(training_set[0]))\n",
    "training_set[0]\n"
   ]
  },
  {
   "cell_type": "markdown",
   "id": "7d1aa9ec",
   "metadata": {
    "papermill": {
     "duration": 0.00796,
     "end_time": "2025-02-20T07:41:45.972231",
     "exception": false,
     "start_time": "2025-02-20T07:41:45.964271",
     "status": "completed"
    },
    "tags": []
   },
   "source": [
    "Each row of the dataset is a tuple of length 2 containing the image and its label"
   ]
  },
  {
   "cell_type": "code",
   "execution_count": 5,
   "id": "31227b67",
   "metadata": {
    "execution": {
     "iopub.execute_input": "2025-02-20T07:41:45.989278Z",
     "iopub.status.busy": "2025-02-20T07:41:45.989039Z",
     "iopub.status.idle": "2025-02-20T07:41:45.992271Z",
     "shell.execute_reply": "2025-02-20T07:41:45.991622Z"
    },
    "papermill": {
     "duration": 0.013275,
     "end_time": "2025-02-20T07:41:45.993567",
     "exception": false,
     "start_time": "2025-02-20T07:41:45.980292",
     "status": "completed"
    },
    "tags": []
   },
   "outputs": [],
   "source": [
    "#  List of class names corresponding to the CIFAR-10 dataset categories\n",
    "class_name = ['airplane', 'automobile', 'bird', 'cat', 'deer', 'dog', 'frog', 'horse', 'ship', 'truck']"
   ]
  },
  {
   "cell_type": "code",
   "execution_count": 6,
   "id": "3526f469",
   "metadata": {
    "execution": {
     "iopub.execute_input": "2025-02-20T07:41:46.010687Z",
     "iopub.status.busy": "2025-02-20T07:41:46.010437Z",
     "iopub.status.idle": "2025-02-20T07:41:47.677697Z",
     "shell.execute_reply": "2025-02-20T07:41:47.676814Z"
    },
    "papermill": {
     "duration": 1.677296,
     "end_time": "2025-02-20T07:41:47.679068",
     "exception": false,
     "start_time": "2025-02-20T07:41:46.001772",
     "status": "completed"
    },
    "tags": []
   },
   "outputs": [
    {
     "data": {
      "text/html": [
       "<iframe\n",
       "    scrolling=\"no\"\n",
       "    width=\"100%\"\n",
       "    height=\"545px\"\n",
       "    src=\"iframe_figures/figure_6.html\"\n",
       "    frameborder=\"0\"\n",
       "    allowfullscreen\n",
       "></iframe>\n"
      ]
     },
     "metadata": {},
     "output_type": "display_data"
    }
   ],
   "source": [
    "# Create a 2x2 grid of subplots\n",
    "fig = sp.make_subplots(rows=3, cols=3,\n",
    "                       subplot_titles=[class_name[training_set[i][1]] for i in range(9)])\n",
    "\n",
    "for i in range(3):\n",
    "    for j in range(3):\n",
    "        image_tensor = training_set[i*3+j][0]\n",
    "        # transpose it to (height, width, channels) instead of (channels, height, width)\n",
    "        image_np = image_tensor.numpy().transpose(1, 2, 0)\n",
    "        \n",
    "        # Add each image to the subplots\n",
    "        fig.add_trace(px.imshow(image_np).data[0], row=i+1, col=j+1)\n",
    "\n",
    "\n",
    "fig.update_xaxes(showticklabels=False, showgrid=False, zeroline=False)\n",
    "fig.update_yaxes(showticklabels=False, showgrid=False, zeroline=False)\n",
    "\n",
    "# Show the plot\n",
    "fig.show(renderer = \"iframe\")"
   ]
  },
  {
   "cell_type": "markdown",
   "id": "efe29f0a",
   "metadata": {
    "papermill": {
     "duration": 0.008194,
     "end_time": "2025-02-20T07:41:47.695872",
     "exception": false,
     "start_time": "2025-02-20T07:41:47.687678",
     "status": "completed"
    },
    "tags": []
   },
   "source": [
    "## Create Model"
   ]
  },
  {
   "cell_type": "code",
   "execution_count": 7,
   "id": "b59332fb",
   "metadata": {
    "execution": {
     "iopub.execute_input": "2025-02-20T07:41:47.713016Z",
     "iopub.status.busy": "2025-02-20T07:41:47.712752Z",
     "iopub.status.idle": "2025-02-20T07:41:47.719789Z",
     "shell.execute_reply": "2025-02-20T07:41:47.719161Z"
    },
    "papermill": {
     "duration": 0.017026,
     "end_time": "2025-02-20T07:41:47.721008",
     "exception": false,
     "start_time": "2025-02-20T07:41:47.703982",
     "status": "completed"
    },
    "tags": []
   },
   "outputs": [],
   "source": [
    "class Model(nn.Module):\n",
    "    def __init__(self,  conv1_out=32, conv2_out=64, conv3_out=128, kernel_size=3, \n",
    "                 pool_kernel=2, pool_stride=2, fc1_out=256, fc2_out=128, dropout_rate=0.1):\n",
    "        super(Model, self).__init__()\n",
    "        \n",
    "        # Model parameters\n",
    "        self.conv1_out = conv1_out\n",
    "        self.conv2_out = conv2_out\n",
    "        self.conv3_out = conv3_out\n",
    "        self.kernel_size = kernel_size\n",
    "        self.pool_kernel = pool_kernel\n",
    "        self.pool_stride = pool_stride\n",
    "        self.fc1_out = fc1_out\n",
    "        self.fc2_out = fc2_out\n",
    "        self.dropout_rate = dropout_rate\n",
    "        \n",
    "        # Define layers\n",
    "        self.conv1 = nn.Conv2d(3, self.conv1_out, self.kernel_size)\n",
    "        self.conv2 = nn.Conv2d(self.conv1_out, self.conv2_out, self.kernel_size)\n",
    "        self.conv3 = nn.Conv2d(self.conv2_out, self.conv3_out, self.kernel_size)\n",
    "        \n",
    "        self.pool = nn.MaxPool2d(self.pool_kernel, self.pool_stride)\n",
    "        \n",
    "        # Adjusted input size after convolutions and pooling\n",
    "        self.fc1_in = self.conv3_out * 2 * 2\n",
    "        \n",
    "        self.fc1 = nn.Linear(self.fc1_in, self.fc1_out)\n",
    "        self.fc2 = nn.Linear(self.fc1_out, self.fc2_out)\n",
    "        self.fc3 = nn.Linear(self.fc2_out, 10)\n",
    "        \n",
    "        self.dropout = nn.Dropout(self.dropout_rate)\n",
    "    \n",
    "    def forward(self, x):\n",
    "        \n",
    "        x = self.pool(F.relu(self.conv1(x)))\n",
    "        x = self.pool(F.relu(self.conv2(x)))\n",
    "        x = self.pool(F.relu(self.conv3(x)))\n",
    "    \n",
    "        x = x.view(-1, self.fc1_in)  \n",
    "    \n",
    "        x = F.relu(self.fc1(x))\n",
    "        x = self.dropout(x)  \n",
    "    \n",
    "        x = F.relu(self.fc2(x))\n",
    "        x = self.dropout(x)  \n",
    "    \n",
    "        x = self.fc3(x)\n",
    "        \n",
    "        return x\n"
   ]
  },
  {
   "cell_type": "markdown",
   "id": "3e999d29",
   "metadata": {
    "papermill": {
     "duration": 0.008056,
     "end_time": "2025-02-20T07:41:47.737287",
     "exception": false,
     "start_time": "2025-02-20T07:41:47.729231",
     "status": "completed"
    },
    "tags": []
   },
   "source": [
    "## Some helpful Functions"
   ]
  },
  {
   "cell_type": "code",
   "execution_count": 8,
   "id": "42df130f",
   "metadata": {
    "execution": {
     "iopub.execute_input": "2025-02-20T07:41:47.754197Z",
     "iopub.status.busy": "2025-02-20T07:41:47.753996Z",
     "iopub.status.idle": "2025-02-20T07:41:47.757972Z",
     "shell.execute_reply": "2025-02-20T07:41:47.757369Z"
    },
    "papermill": {
     "duration": 0.013608,
     "end_time": "2025-02-20T07:41:47.759063",
     "exception": false,
     "start_time": "2025-02-20T07:41:47.745455",
     "status": "completed"
    },
    "tags": []
   },
   "outputs": [],
   "source": [
    "def calculate_loss(model, data):\n",
    "    total_loss = 0.0\n",
    "    total_samples = 0\n",
    "    \n",
    "    model.eval()  # Set the model to evaluation mode\n",
    "    \n",
    "    with torch.no_grad():  # Disable gradient calculation\n",
    "        for batch in data:\n",
    "            images, labels = batch\n",
    "            images, labels = images.to(device), labels.to(device)\n",
    "\n",
    "            outputs = model(images)  # Forward pass\n",
    "            loss = criterion(outputs, labels)  # Compute the loss\n",
    "            total_loss += loss.item() * labels.size(0)  # Accumulate the loss\n",
    "            total_samples += labels.size(0)  # Accumulate the number of samples\n",
    "    \n",
    "    model.train()  # Set the model back to training mode\n",
    "    return round(total_loss / total_samples, 4)  # Return the average loss"
   ]
  },
  {
   "cell_type": "code",
   "execution_count": 9,
   "id": "db2a3666",
   "metadata": {
    "execution": {
     "iopub.execute_input": "2025-02-20T07:41:47.776077Z",
     "iopub.status.busy": "2025-02-20T07:41:47.775883Z",
     "iopub.status.idle": "2025-02-20T07:41:47.780773Z",
     "shell.execute_reply": "2025-02-20T07:41:47.779876Z"
    },
    "papermill": {
     "duration": 0.014682,
     "end_time": "2025-02-20T07:41:47.782100",
     "exception": false,
     "start_time": "2025-02-20T07:41:47.767418",
     "status": "completed"
    },
    "tags": []
   },
   "outputs": [],
   "source": [
    "def calculate_accuracy(model, data):\n",
    "    \n",
    "    correct = 0\n",
    "    total = 0\n",
    "    \n",
    "    model.eval()  # Set the model to evaluation mode\n",
    "    \n",
    "    with torch.no_grad():# Disable gradient calculation\n",
    "        for batch in data:\n",
    "            \n",
    "            images, labels = batch\n",
    "            images, labels = images.to(device), labels.to(device)\n",
    "\n",
    "            outputs = model(images)\n",
    "            # Convert to probabilities\n",
    "            # probabilities = F.softmax(outputs, dim=1)\n",
    "            \n",
    "            # Get the predicted class by selecting the class with the highest score\n",
    "            _, predicted = torch.max(outputs.data, 1)\n",
    "            total += labels.size(0)\n",
    "            \n",
    "            # Update the number of correctly predicted samples\n",
    "            correct += (predicted == labels).sum().item()\n",
    "    model.train()\n",
    "    return round(correct / total, 4) "
   ]
  },
  {
   "cell_type": "code",
   "execution_count": 10,
   "id": "bb485155",
   "metadata": {
    "execution": {
     "iopub.execute_input": "2025-02-20T07:41:47.799217Z",
     "iopub.status.busy": "2025-02-20T07:41:47.799007Z",
     "iopub.status.idle": "2025-02-20T07:41:47.804374Z",
     "shell.execute_reply": "2025-02-20T07:41:47.803607Z"
    },
    "papermill": {
     "duration": 0.015247,
     "end_time": "2025-02-20T07:41:47.805609",
     "exception": false,
     "start_time": "2025-02-20T07:41:47.790362",
     "status": "completed"
    },
    "tags": []
   },
   "outputs": [],
   "source": [
    "def train_model(model,optimizer, train_data, valid_data, epochs):\n",
    "\n",
    "    # Lists to store losses and accuracies\n",
    "    train_losses = []\n",
    "    train_accuracies = []\n",
    "    val_losses = []\n",
    "    val_accuracies = []\n",
    "    \n",
    "    for epoch in range(epochs):  # loop over the dataset multiple times\n",
    "        for  batch in train_data:\n",
    "            # get the inputs\n",
    "            inputs, labels = batch\n",
    "            inputs, labels = inputs.to(device), labels.to(device)\n",
    "    \n",
    "            # zero the parameter gradients\n",
    "            optimizer.zero_grad()\n",
    "    \n",
    "            # forward + backward + optimize\n",
    "            outputs = model(inputs)\n",
    "            loss = criterion(outputs, labels)\n",
    "            loss.backward()\n",
    "            optimizer.step()\n",
    "    \n",
    "        # Calculate training and validation loss and accuracy\n",
    "        train_loss = calculate_loss(model, train_data)\n",
    "        train_accuracy = calculate_accuracy(model, train_data)\n",
    "        val_loss = calculate_loss(model, valid_data)\n",
    "        val_accuracy = calculate_accuracy(model, valid_data)\n",
    "    \n",
    "        # Append the values to the lists\n",
    "        train_losses.append(train_loss)\n",
    "        train_accuracies.append(train_accuracy)\n",
    "        val_losses.append(val_loss)\n",
    "        val_accuracies.append(val_accuracy)\n",
    "    \n",
    "        # print statistics\n",
    "        print(f\"Epoch [{epoch + 1}/{epochs}]\")\n",
    "        print(f\"Training Loss = {train_loss}, Training Accuracy = {train_accuracy}\")\n",
    "        print(f\"Validation Loss = {val_loss}, Validation Accuracy = {val_accuracy}\")\n",
    "        print(\"\\n\")\n",
    "    print(\"Done!!!\")\n",
    "    return  train_losses, train_accuracies, val_losses, val_accuracies "
   ]
  },
  {
   "cell_type": "code",
   "execution_count": 11,
   "id": "e68679b9",
   "metadata": {
    "execution": {
     "iopub.execute_input": "2025-02-20T07:41:47.822454Z",
     "iopub.status.busy": "2025-02-20T07:41:47.822218Z",
     "iopub.status.idle": "2025-02-20T07:41:47.826924Z",
     "shell.execute_reply": "2025-02-20T07:41:47.825998Z"
    },
    "papermill": {
     "duration": 0.015561,
     "end_time": "2025-02-20T07:41:47.829165",
     "exception": false,
     "start_time": "2025-02-20T07:41:47.813604",
     "status": "completed"
    },
    "tags": []
   },
   "outputs": [],
   "source": [
    "def eff_train_model(model,optimizer, train_data,  epochs):\n",
    "\n",
    "    for epoch in range(epochs):  # loop over the dataset multiple times\n",
    "        for  batch in train_data:\n",
    "            # get the inputs\n",
    "            inputs, labels = batch\n",
    "            inputs, labels = inputs.to(device), labels.to(device)\n",
    "    \n",
    "            # zero the parameter gradients\n",
    "            optimizer.zero_grad()\n",
    "    \n",
    "            # forward + backward + optimize\n",
    "            outputs = model(inputs)\n",
    "            loss = criterion(outputs, labels)\n",
    "            loss.backward()\n",
    "            optimizer.step()"
   ]
  },
  {
   "cell_type": "markdown",
   "id": "7685db1d",
   "metadata": {
    "papermill": {
     "duration": 0.015831,
     "end_time": "2025-02-20T07:41:47.860051",
     "exception": false,
     "start_time": "2025-02-20T07:41:47.844220",
     "status": "completed"
    },
    "tags": []
   },
   "source": [
    "## Frist time training (with out data augmentation)"
   ]
  },
  {
   "cell_type": "code",
   "execution_count": 12,
   "id": "9e563431",
   "metadata": {
    "execution": {
     "iopub.execute_input": "2025-02-20T07:41:47.890300Z",
     "iopub.status.busy": "2025-02-20T07:41:47.889906Z",
     "iopub.status.idle": "2025-02-20T07:41:47.896511Z",
     "shell.execute_reply": "2025-02-20T07:41:47.895433Z"
    },
    "papermill": {
     "duration": 0.024202,
     "end_time": "2025-02-20T07:41:47.898267",
     "exception": false,
     "start_time": "2025-02-20T07:41:47.874065",
     "status": "completed"
    },
    "tags": []
   },
   "outputs": [],
   "source": [
    "batch_size = 16\n",
    "\n",
    "train_loader = torch.utils.data.DataLoader(training_set, batch_size = batch_size)\n",
    "\n",
    "test_loader = torch.utils.data.DataLoader(test_set, batch_size = batch_size)\n",
    "\n",
    "valid_loader = torch.utils.data.DataLoader(validation_set, batch_size = batch_size)"
   ]
  },
  {
   "cell_type": "code",
   "execution_count": 13,
   "id": "9503cb35",
   "metadata": {
    "execution": {
     "iopub.execute_input": "2025-02-20T07:41:47.920825Z",
     "iopub.status.busy": "2025-02-20T07:41:47.920578Z",
     "iopub.status.idle": "2025-02-20T07:41:48.142259Z",
     "shell.execute_reply": "2025-02-20T07:41:48.141461Z"
    },
    "papermill": {
     "duration": 0.231856,
     "end_time": "2025-02-20T07:41:48.143629",
     "exception": false,
     "start_time": "2025-02-20T07:41:47.911773",
     "status": "completed"
    },
    "tags": []
   },
   "outputs": [
    {
     "data": {
      "text/plain": [
       "Model(\n",
       "  (conv1): Conv2d(3, 32, kernel_size=(3, 3), stride=(1, 1))\n",
       "  (conv2): Conv2d(32, 64, kernel_size=(3, 3), stride=(1, 1))\n",
       "  (conv3): Conv2d(64, 128, kernel_size=(3, 3), stride=(1, 1))\n",
       "  (pool): MaxPool2d(kernel_size=2, stride=2, padding=0, dilation=1, ceil_mode=False)\n",
       "  (fc1): Linear(in_features=512, out_features=256, bias=True)\n",
       "  (fc2): Linear(in_features=256, out_features=128, bias=True)\n",
       "  (fc3): Linear(in_features=128, out_features=10, bias=True)\n",
       "  (dropout): Dropout(p=0.1, inplace=False)\n",
       ")"
      ]
     },
     "execution_count": 13,
     "metadata": {},
     "output_type": "execute_result"
    }
   ],
   "source": [
    "model1 = Model()\n",
    "criterion = nn.CrossEntropyLoss()\n",
    "optimizer1 = optim.Adam(model1.parameters(), weight_decay=1e-4)\n",
    "\n",
    "device = torch.device(\"cuda\" if torch.cuda.is_available() else \"cpu\")\n",
    "model1.to(device)"
   ]
  },
  {
   "cell_type": "code",
   "execution_count": 14,
   "id": "9c3f74c9",
   "metadata": {
    "execution": {
     "iopub.execute_input": "2025-02-20T07:41:48.161150Z",
     "iopub.status.busy": "2025-02-20T07:41:48.160920Z",
     "iopub.status.idle": "2025-02-20T07:47:27.047243Z",
     "shell.execute_reply": "2025-02-20T07:47:27.046404Z"
    },
    "papermill": {
     "duration": 338.905215,
     "end_time": "2025-02-20T07:47:27.057358",
     "exception": false,
     "start_time": "2025-02-20T07:41:48.152143",
     "status": "completed"
    },
    "tags": []
   },
   "outputs": [
    {
     "name": "stdout",
     "output_type": "stream",
     "text": [
      "Epoch [1/10]\n",
      "Training Loss = 1.3098, Training Accuracy = 0.5136\n",
      "Validation Loss = 1.3409, Validation Accuracy = 0.4942\n",
      "\n",
      "\n",
      "Epoch [2/10]\n",
      "Training Loss = 1.098, Training Accuracy = 0.6085\n",
      "Validation Loss = 1.1656, Validation Accuracy = 0.5862\n",
      "\n",
      "\n",
      "Epoch [3/10]\n",
      "Training Loss = 0.924, Training Accuracy = 0.6722\n",
      "Validation Loss = 1.0207, Validation Accuracy = 0.6472\n",
      "\n",
      "\n",
      "Epoch [4/10]\n",
      "Training Loss = 0.8463, Training Accuracy = 0.702\n",
      "Validation Loss = 0.9777, Validation Accuracy = 0.6634\n",
      "\n",
      "\n",
      "Epoch [5/10]\n",
      "Training Loss = 0.7766, Training Accuracy = 0.7266\n",
      "Validation Loss = 0.9444, Validation Accuracy = 0.675\n",
      "\n",
      "\n",
      "Epoch [6/10]\n",
      "Training Loss = 0.7105, Training Accuracy = 0.7524\n",
      "Validation Loss = 0.9112, Validation Accuracy = 0.693\n",
      "\n",
      "\n",
      "Epoch [7/10]\n",
      "Training Loss = 0.6777, Training Accuracy = 0.7637\n",
      "Validation Loss = 0.9086, Validation Accuracy = 0.6894\n",
      "\n",
      "\n",
      "Epoch [8/10]\n",
      "Training Loss = 0.6507, Training Accuracy = 0.771\n",
      "Validation Loss = 0.9066, Validation Accuracy = 0.692\n",
      "\n",
      "\n",
      "Epoch [9/10]\n",
      "Training Loss = 0.6954, Training Accuracy = 0.7559\n",
      "Validation Loss = 0.9881, Validation Accuracy = 0.677\n",
      "\n",
      "\n",
      "Epoch [10/10]\n",
      "Training Loss = 0.6226, Training Accuracy = 0.7798\n",
      "Validation Loss = 0.9333, Validation Accuracy = 0.6938\n",
      "\n",
      "\n",
      "Done!!!\n",
      "CPU times: user 5min 35s, sys: 1.46 s, total: 5min 36s\n",
      "Wall time: 5min 38s\n"
     ]
    }
   ],
   "source": [
    "%%time\n",
    "train_losses, train_accuracies, val_losses, val_accuracies = train_model(\n",
    "                                model1, optimizer1, train_loader, valid_loader, 10 )"
   ]
  },
  {
   "cell_type": "code",
   "execution_count": 15,
   "id": "3b673126",
   "metadata": {
    "execution": {
     "iopub.execute_input": "2025-02-20T07:47:27.075802Z",
     "iopub.status.busy": "2025-02-20T07:47:27.075563Z",
     "iopub.status.idle": "2025-02-20T07:47:27.265852Z",
     "shell.execute_reply": "2025-02-20T07:47:27.265036Z"
    },
    "papermill": {
     "duration": 0.201005,
     "end_time": "2025-02-20T07:47:27.267214",
     "exception": false,
     "start_time": "2025-02-20T07:47:27.066209",
     "status": "completed"
    },
    "tags": []
   },
   "outputs": [
    {
     "data": {
      "text/html": [
       "<iframe\n",
       "    scrolling=\"no\"\n",
       "    width=\"100%\"\n",
       "    height=\"545px\"\n",
       "    src=\"iframe_figures/figure_15.html\"\n",
       "    frameborder=\"0\"\n",
       "    allowfullscreen\n",
       "></iframe>\n"
      ]
     },
     "metadata": {},
     "output_type": "display_data"
    }
   ],
   "source": [
    "epochs = list(range(1, len(train_losses) + 1))  # Epoch numbers\n",
    "fig_loss = px.line(x=epochs, y=[train_losses, val_losses], \n",
    "                   title='Training and Validation Loss',\n",
    "                   labels={'x': 'Epoch', 'y': 'Loss',\n",
    "                           \"train_losses\": \"Training Loss\" , \"val_losses\":\"Validation Loss\" })\n",
    "\n",
    "fig_loss.show(renderer = \"iframe\")"
   ]
  },
  {
   "cell_type": "code",
   "execution_count": 16,
   "id": "4872ca25",
   "metadata": {
    "execution": {
     "iopub.execute_input": "2025-02-20T07:47:27.286308Z",
     "iopub.status.busy": "2025-02-20T07:47:27.286090Z",
     "iopub.status.idle": "2025-02-20T07:47:27.348309Z",
     "shell.execute_reply": "2025-02-20T07:47:27.347612Z"
    },
    "papermill": {
     "duration": 0.072947,
     "end_time": "2025-02-20T07:47:27.349692",
     "exception": false,
     "start_time": "2025-02-20T07:47:27.276745",
     "status": "completed"
    },
    "tags": []
   },
   "outputs": [
    {
     "data": {
      "text/html": [
       "<iframe\n",
       "    scrolling=\"no\"\n",
       "    width=\"100%\"\n",
       "    height=\"545px\"\n",
       "    src=\"iframe_figures/figure_16.html\"\n",
       "    frameborder=\"0\"\n",
       "    allowfullscreen\n",
       "></iframe>\n"
      ]
     },
     "metadata": {},
     "output_type": "display_data"
    }
   ],
   "source": [
    "fig_accuracy = px.line(x=epochs, y=[train_accuracies, val_accuracies], \n",
    "                       title='Training and Validation Accuracy',\n",
    "                       labels={'x': 'Epoch', 'y': 'Accuracy'})\n",
    "fig_accuracy.show(renderer = \"iframe\")"
   ]
  },
  {
   "cell_type": "markdown",
   "id": "03ca5e4b",
   "metadata": {
    "papermill": {
     "duration": 0.008483,
     "end_time": "2025-02-20T07:47:27.367525",
     "exception": false,
     "start_time": "2025-02-20T07:47:27.359042",
     "status": "completed"
    },
    "tags": []
   },
   "source": [
    "## Data Augmentation"
   ]
  },
  {
   "cell_type": "code",
   "execution_count": 17,
   "id": "08ee8edf",
   "metadata": {
    "execution": {
     "iopub.execute_input": "2025-02-20T07:47:27.385666Z",
     "iopub.status.busy": "2025-02-20T07:47:27.385435Z",
     "iopub.status.idle": "2025-02-20T07:47:27.388463Z",
     "shell.execute_reply": "2025-02-20T07:47:27.387881Z"
    },
    "papermill": {
     "duration": 0.013467,
     "end_time": "2025-02-20T07:47:27.389682",
     "exception": false,
     "start_time": "2025-02-20T07:47:27.376215",
     "status": "completed"
    },
    "tags": []
   },
   "outputs": [],
   "source": [
    "horizontal_flip = transforms.Compose([\n",
    "    transforms.RandomHorizontalFlip(1),  # Randomly flip the image horizontally\n",
    "    transforms.ToTensor(),              # Convert the image to a PyTorch tensor\n",
    "])"
   ]
  },
  {
   "cell_type": "code",
   "execution_count": 18,
   "id": "92dbf971",
   "metadata": {
    "execution": {
     "iopub.execute_input": "2025-02-20T07:47:27.407898Z",
     "iopub.status.busy": "2025-02-20T07:47:27.407690Z",
     "iopub.status.idle": "2025-02-20T07:47:27.410828Z",
     "shell.execute_reply": "2025-02-20T07:47:27.410241Z"
    },
    "papermill": {
     "duration": 0.013632,
     "end_time": "2025-02-20T07:47:27.412008",
     "exception": false,
     "start_time": "2025-02-20T07:47:27.398376",
     "status": "completed"
    },
    "tags": []
   },
   "outputs": [],
   "source": [
    "# Define the transformations\n",
    "color_jitter = transforms.Compose([\n",
    "    transforms.ColorJitter(\n",
    "        brightness=0.3,  \n",
    "        contrast=0.3,   \n",
    "        saturation=0.3, \n",
    "        hue=0.2   \n",
    "    ),  # Randomly change the brightness, contrast, saturation, and hue\n",
    "    \n",
    "    transforms.ToTensor(),              # Convert the image to a PyTorch tensor\n",
    "])"
   ]
  },
  {
   "cell_type": "code",
   "execution_count": 19,
   "id": "28f19f99",
   "metadata": {
    "execution": {
     "iopub.execute_input": "2025-02-20T07:47:27.430358Z",
     "iopub.status.busy": "2025-02-20T07:47:27.430163Z",
     "iopub.status.idle": "2025-02-20T07:47:34.395839Z",
     "shell.execute_reply": "2025-02-20T07:47:34.394884Z"
    },
    "papermill": {
     "duration": 6.97656,
     "end_time": "2025-02-20T07:47:34.397568",
     "exception": false,
     "start_time": "2025-02-20T07:47:27.421008",
     "status": "completed"
    },
    "tags": []
   },
   "outputs": [
    {
     "name": "stdout",
     "output_type": "stream",
     "text": [
      "Downloading https://www.cs.toronto.edu/~kriz/cifar-10-python.tar.gz to ./data/cifar-10-python.tar.gz\n"
     ]
    },
    {
     "name": "stderr",
     "output_type": "stream",
     "text": [
      "100%|██████████| 170M/170M [00:03<00:00, 49.2MB/s]\n"
     ]
    },
    {
     "name": "stdout",
     "output_type": "stream",
     "text": [
      "Extracting ./data/cifar-10-python.tar.gz to ./data\n",
      "Files already downloaded and verified\n"
     ]
    }
   ],
   "source": [
    "# Load the dataset with transformations\n",
    "horizontally_flipped = torchvision.datasets.CIFAR10(root='./data', train=True, download=True, transform=horizontal_flip)\n",
    "color_jittered = torchvision.datasets.CIFAR10(root='./data', train=True, download=True, transform=color_jitter)"
   ]
  },
  {
   "cell_type": "code",
   "execution_count": 20,
   "id": "7e98618a",
   "metadata": {
    "execution": {
     "iopub.execute_input": "2025-02-20T07:47:34.419806Z",
     "iopub.status.busy": "2025-02-20T07:47:34.419547Z",
     "iopub.status.idle": "2025-02-20T07:47:34.804165Z",
     "shell.execute_reply": "2025-02-20T07:47:34.803373Z"
    },
    "papermill": {
     "duration": 0.396999,
     "end_time": "2025-02-20T07:47:34.805469",
     "exception": false,
     "start_time": "2025-02-20T07:47:34.408470",
     "status": "completed"
    },
    "tags": []
   },
   "outputs": [
    {
     "data": {
      "text/html": [
       "<iframe\n",
       "    scrolling=\"no\"\n",
       "    width=\"100%\"\n",
       "    height=\"545px\"\n",
       "    src=\"iframe_figures/figure_20.html\"\n",
       "    frameborder=\"0\"\n",
       "    allowfullscreen\n",
       "></iframe>\n"
      ]
     },
     "metadata": {},
     "output_type": "display_data"
    }
   ],
   "source": [
    "fig = sp.make_subplots(rows=4, cols=3, subplot_titles=[\"Original\", \"Flipped\", \"Color-Jittered\"])\n",
    "\n",
    "for i in range(4):\n",
    "    original_image = training_set[i][0]\n",
    "    flipped_image = horizontally_flipped[i][0]\n",
    "    color_jittered_image = color_jittered[i][0]\n",
    "    \n",
    "    # transpose it to (height, width, channels) instead of (channels, height, width)\n",
    "    original_image = original_image.numpy().transpose(1, 2, 0)\n",
    "    flipped_image = flipped_image.numpy().transpose(1, 2, 0)\n",
    "    color_jittered_image = color_jittered_image.numpy().transpose(1, 2, 0)\n",
    "    \n",
    "\n",
    "    \n",
    "    # Add each image to the subplots\n",
    "    fig.add_trace(px.imshow(original_image).data[0], row=i+1, col=1)\n",
    "    fig.add_trace(px.imshow(flipped_image).data[0], row=i+1, col=2)\n",
    "    fig.add_trace(px.imshow(color_jittered_image).data[0], row=i+1, col=3)\n",
    "\n",
    "\n",
    "\n",
    "fig.update_xaxes(showticklabels=False, showgrid=False, zeroline=False)\n",
    "fig.update_yaxes(showticklabels=False, showgrid=False, zeroline=False)\n",
    "\n",
    "\n",
    "fig.show(renderer = \"iframe\")"
   ]
  },
  {
   "cell_type": "code",
   "execution_count": 21,
   "id": "2fe9596f",
   "metadata": {
    "execution": {
     "iopub.execute_input": "2025-02-20T07:47:34.827661Z",
     "iopub.status.busy": "2025-02-20T07:47:34.827429Z",
     "iopub.status.idle": "2025-02-20T07:47:34.831321Z",
     "shell.execute_reply": "2025-02-20T07:47:34.830534Z"
    },
    "papermill": {
     "duration": 0.016167,
     "end_time": "2025-02-20T07:47:34.832656",
     "exception": false,
     "start_time": "2025-02-20T07:47:34.816489",
     "status": "completed"
    },
    "tags": []
   },
   "outputs": [],
   "source": [
    "combined_dataset = ConcatDataset([training_set, horizontally_flipped, color_jittered])\n",
    "\n",
    "augmented_loader = torch.utils.data.DataLoader(combined_dataset, batch_size = batch_size, shuffle = True)"
   ]
  },
  {
   "cell_type": "markdown",
   "id": "5b4e9e58",
   "metadata": {
    "papermill": {
     "duration": 0.01014,
     "end_time": "2025-02-20T07:47:34.853333",
     "exception": false,
     "start_time": "2025-02-20T07:47:34.843193",
     "status": "completed"
    },
    "tags": []
   },
   "source": [
    "## Second Time Training (with data augmentation)"
   ]
  },
  {
   "cell_type": "code",
   "execution_count": 22,
   "id": "3d0c19e6",
   "metadata": {
    "execution": {
     "iopub.execute_input": "2025-02-20T07:47:34.875020Z",
     "iopub.status.busy": "2025-02-20T07:47:34.874788Z",
     "iopub.status.idle": "2025-02-20T07:47:34.883549Z",
     "shell.execute_reply": "2025-02-20T07:47:34.882728Z"
    },
    "papermill": {
     "duration": 0.02107,
     "end_time": "2025-02-20T07:47:34.884751",
     "exception": false,
     "start_time": "2025-02-20T07:47:34.863681",
     "status": "completed"
    },
    "tags": []
   },
   "outputs": [
    {
     "data": {
      "text/plain": [
       "Model(\n",
       "  (conv1): Conv2d(3, 32, kernel_size=(3, 3), stride=(1, 1))\n",
       "  (conv2): Conv2d(32, 64, kernel_size=(3, 3), stride=(1, 1))\n",
       "  (conv3): Conv2d(64, 128, kernel_size=(3, 3), stride=(1, 1))\n",
       "  (pool): MaxPool2d(kernel_size=2, stride=2, padding=0, dilation=1, ceil_mode=False)\n",
       "  (fc1): Linear(in_features=512, out_features=256, bias=True)\n",
       "  (fc2): Linear(in_features=256, out_features=128, bias=True)\n",
       "  (fc3): Linear(in_features=128, out_features=10, bias=True)\n",
       "  (dropout): Dropout(p=0.1, inplace=False)\n",
       ")"
      ]
     },
     "execution_count": 22,
     "metadata": {},
     "output_type": "execute_result"
    }
   ],
   "source": [
    "model2 = Model()\n",
    "criterion = nn.CrossEntropyLoss()\n",
    "optimizer2 = optim.Adam(model2.parameters(),weight_decay=1e-4)\n",
    "\n",
    "model2.to(device)"
   ]
  },
  {
   "cell_type": "code",
   "execution_count": 23,
   "id": "9b74ec6c",
   "metadata": {
    "execution": {
     "iopub.execute_input": "2025-02-20T07:47:34.906719Z",
     "iopub.status.busy": "2025-02-20T07:47:34.906462Z",
     "iopub.status.idle": "2025-02-20T08:18:03.774345Z",
     "shell.execute_reply": "2025-02-20T08:18:03.773428Z"
    },
    "papermill": {
     "duration": 1828.891023,
     "end_time": "2025-02-20T08:18:03.786588",
     "exception": false,
     "start_time": "2025-02-20T07:47:34.895565",
     "status": "completed"
    },
    "tags": []
   },
   "outputs": [
    {
     "name": "stdout",
     "output_type": "stream",
     "text": [
      "Epoch [1/10]\n",
      "Training Loss = 1.0273, Training Accuracy = 0.6409\n",
      "Validation Loss = 1.0649, Validation Accuracy = 0.6262\n",
      "\n",
      "\n",
      "Epoch [2/10]\n",
      "Training Loss = 0.8185, Training Accuracy = 0.7136\n",
      "Validation Loss = 0.8954, Validation Accuracy = 0.6924\n",
      "\n",
      "\n",
      "Epoch [3/10]\n",
      "Training Loss = 0.7612, Training Accuracy = 0.7357\n",
      "Validation Loss = 0.8689, Validation Accuracy = 0.6992\n",
      "\n",
      "\n",
      "Epoch [4/10]\n",
      "Training Loss = 0.6793, Training Accuracy = 0.7639\n",
      "Validation Loss = 0.8258, Validation Accuracy = 0.7176\n",
      "\n",
      "\n",
      "Epoch [5/10]\n",
      "Training Loss = 0.6784, Training Accuracy = 0.7651\n",
      "Validation Loss = 0.8255, Validation Accuracy = 0.7162\n",
      "\n",
      "\n",
      "Epoch [6/10]\n",
      "Training Loss = 0.6313, Training Accuracy = 0.776\n",
      "Validation Loss = 0.8144, Validation Accuracy = 0.7276\n",
      "\n",
      "\n",
      "Epoch [7/10]\n",
      "Training Loss = 0.5667, Training Accuracy = 0.8031\n",
      "Validation Loss = 0.7655, Validation Accuracy = 0.7452\n",
      "\n",
      "\n",
      "Epoch [8/10]\n",
      "Training Loss = 0.5847, Training Accuracy = 0.7958\n",
      "Validation Loss = 0.7888, Validation Accuracy = 0.7418\n",
      "\n",
      "\n",
      "Epoch [9/10]\n",
      "Training Loss = 0.5238, Training Accuracy = 0.8179\n",
      "Validation Loss = 0.7557, Validation Accuracy = 0.75\n",
      "\n",
      "\n",
      "Epoch [10/10]\n",
      "Training Loss = 0.5259, Training Accuracy = 0.8151\n",
      "Validation Loss = 0.7677, Validation Accuracy = 0.7502\n",
      "\n",
      "\n",
      "Done!!!\n",
      "CPU times: user 30min 21s, sys: 4.07 s, total: 30min 25s\n",
      "Wall time: 30min 28s\n"
     ]
    }
   ],
   "source": [
    "%%time\n",
    "train_losses, train_accuracies, val_losses, val_accuracies = train_model(\n",
    "    model2, optimizer2, augmented_loader, valid_loader, 10)"
   ]
  },
  {
   "cell_type": "code",
   "execution_count": 24,
   "id": "85636961",
   "metadata": {
    "execution": {
     "iopub.execute_input": "2025-02-20T08:18:03.810003Z",
     "iopub.status.busy": "2025-02-20T08:18:03.809740Z",
     "iopub.status.idle": "2025-02-20T08:18:03.879355Z",
     "shell.execute_reply": "2025-02-20T08:18:03.878299Z"
    },
    "papermill": {
     "duration": 0.083195,
     "end_time": "2025-02-20T08:18:03.880954",
     "exception": false,
     "start_time": "2025-02-20T08:18:03.797759",
     "status": "completed"
    },
    "tags": []
   },
   "outputs": [
    {
     "data": {
      "text/html": [
       "<iframe\n",
       "    scrolling=\"no\"\n",
       "    width=\"100%\"\n",
       "    height=\"545px\"\n",
       "    src=\"iframe_figures/figure_24.html\"\n",
       "    frameborder=\"0\"\n",
       "    allowfullscreen\n",
       "></iframe>\n"
      ]
     },
     "metadata": {},
     "output_type": "display_data"
    }
   ],
   "source": [
    "epochs = list(range(1, len(train_losses) + 1))  # Epoch numbers\n",
    "fig_loss = px.line(x=epochs, y=[train_losses, val_losses], \n",
    "                   title='Training and Validation Loss',\n",
    "                   labels={'x': 'Epoch', 'y': 'Loss',\n",
    "                           \"train_losses\": \"Training Loss\" , \"val_losses\":\"Validation Loss\" })\n",
    "\n",
    "fig_loss.show(renderer = \"iframe\")"
   ]
  },
  {
   "cell_type": "code",
   "execution_count": 25,
   "id": "fca87820",
   "metadata": {
    "execution": {
     "iopub.execute_input": "2025-02-20T08:18:03.904876Z",
     "iopub.status.busy": "2025-02-20T08:18:03.904614Z",
     "iopub.status.idle": "2025-02-20T08:18:03.969524Z",
     "shell.execute_reply": "2025-02-20T08:18:03.968802Z"
    },
    "papermill": {
     "duration": 0.078003,
     "end_time": "2025-02-20T08:18:03.970759",
     "exception": false,
     "start_time": "2025-02-20T08:18:03.892756",
     "status": "completed"
    },
    "tags": []
   },
   "outputs": [
    {
     "data": {
      "text/html": [
       "<iframe\n",
       "    scrolling=\"no\"\n",
       "    width=\"100%\"\n",
       "    height=\"545px\"\n",
       "    src=\"iframe_figures/figure_25.html\"\n",
       "    frameborder=\"0\"\n",
       "    allowfullscreen\n",
       "></iframe>\n"
      ]
     },
     "metadata": {},
     "output_type": "display_data"
    }
   ],
   "source": [
    "fig_accuracy = px.line(x = epochs, y = [train_accuracies, val_accuracies], \n",
    "                       title = 'Training and Validation Accuracy',\n",
    "                       labels = {'x': 'Epoch', 'y': 'Accuracy'})\n",
    "fig_accuracy.show(renderer = \"iframe\")"
   ]
  },
  {
   "cell_type": "markdown",
   "id": "94eaa856",
   "metadata": {
    "papermill": {
     "duration": 0.012588,
     "end_time": "2025-02-20T08:18:03.994857",
     "exception": false,
     "start_time": "2025-02-20T08:18:03.982269",
     "status": "completed"
    },
    "tags": []
   },
   "source": [
    "## Hyperparameters Tuning"
   ]
  },
  {
   "cell_type": "code",
   "execution_count": 26,
   "id": "d92bd2f6",
   "metadata": {
    "execution": {
     "iopub.execute_input": "2025-02-20T08:18:04.034055Z",
     "iopub.status.busy": "2025-02-20T08:18:04.033615Z",
     "iopub.status.idle": "2025-02-20T08:18:04.041911Z",
     "shell.execute_reply": "2025-02-20T08:18:04.040806Z"
    },
    "papermill": {
     "duration": 0.032309,
     "end_time": "2025-02-20T08:18:04.044084",
     "exception": false,
     "start_time": "2025-02-20T08:18:04.011775",
     "status": "completed"
    },
    "tags": []
   },
   "outputs": [],
   "source": [
    "def objective(trial):\n",
    "    # conv1_out = trial.suggest_int(\"conv1_out\", 16, 64, step=16)\n",
    "    # conv2_out = trial.suggest_int(\"conv2_out\", 32, 128, step=32)\n",
    "    # conv3_out = trial.suggest_int(\"conv3_out\", 64, 256, step=64)\n",
    "    # kernel_size = trial.suggest_int(\"kernel_size\", 3, 5, step=2)\n",
    "    # pool_kernel = trial.suggest_int(\"pool_kernel\", 2, 3)\n",
    "    # pool_stride = trial.suggest_int(\"pool_stride\", 1, 2)\n",
    "    \n",
    "    # Suggest hyperparameters\n",
    "    fc1_out = trial.suggest_categorical(\"fc1_out\", [128, 256, 512, 1024])\n",
    "    fc2_out = trial.suggest_categorical(\"fc2_out\", [128, 256, 512, 1024])\n",
    "    dropout_rate = trial.suggest_float(\"dropout_rate\", 0.1, 0.4, step = 0.1)\n",
    "    lr = trial.suggest_float(\"lr\", 1e-4, 1e-2, log = True)\n",
    "    weight_decay = trial.suggest_float(\"weight_decay\", 1e-5, 1e-2, log = True)\n",
    "\n",
    "\n",
    "\n",
    "    # Create the model\n",
    "    model = Model( fc1_out = fc1_out, fc2_out = fc2_out, dropout_rate = dropout_rate)\n",
    "    model.to(device)\n",
    "    \n",
    "    # Define optimizer and loss function\n",
    "    optimizer = optim.Adam(model.parameters(), lr=lr, weight_decay=weight_decay)\n",
    "    criterion = nn.CrossEntropyLoss()\n",
    "\n",
    "    # Start with 3 epochs\n",
    "    epochs = 3\n",
    "    if trial.number > 25:  # After 15 trials, increase epochs for better evaluation\n",
    "        epochs = 7\n",
    "\n",
    "    eff_train_model( model, optimizer, train_loader, epochs ) # this is wrong, You should tune on the aug data\n",
    "\n",
    "    \n",
    "    # Evaluate the model\n",
    "    return calculate_accuracy(model, valid_loader)  # Optuna will try to maximize this\n",
    "\n",
    "\n"
   ]
  },
  {
   "cell_type": "code",
   "execution_count": 27,
   "id": "2637eea8",
   "metadata": {
    "execution": {
     "iopub.execute_input": "2025-02-20T08:18:04.076224Z",
     "iopub.status.busy": "2025-02-20T08:18:04.075833Z",
     "iopub.status.idle": "2025-02-20T09:58:19.592242Z",
     "shell.execute_reply": "2025-02-20T09:58:19.591486Z"
    },
    "papermill": {
     "duration": 6015.545535,
     "end_time": "2025-02-20T09:58:19.608590",
     "exception": false,
     "start_time": "2025-02-20T08:18:04.063055",
     "status": "completed"
    },
    "tags": []
   },
   "outputs": [
    {
     "name": "stderr",
     "output_type": "stream",
     "text": [
      "[I 2025-02-20 08:18:04,078] A new study created in memory with name: no-name-759b2e01-431e-482e-a8aa-8dd0a01df892\n",
      "[I 2025-02-20 08:18:47,897] Trial 0 finished with value: 0.0964 and parameters: {'fc1_out': 128, 'fc2_out': 256, 'dropout_rate': 0.4, 'lr': 0.0012373151124907616, 'weight_decay': 0.002431337136840648}. Best is trial 0 with value: 0.0964.\n",
      "[I 2025-02-20 08:19:31,452] Trial 1 finished with value: 0.5462 and parameters: {'fc1_out': 512, 'fc2_out': 128, 'dropout_rate': 0.30000000000000004, 'lr': 0.00017868280372648662, 'weight_decay': 0.0005733935543312864}. Best is trial 1 with value: 0.5462.\n",
      "[I 2025-02-20 08:20:15,140] Trial 2 finished with value: 0.5172 and parameters: {'fc1_out': 256, 'fc2_out': 512, 'dropout_rate': 0.1, 'lr': 0.0003466387522339117, 'weight_decay': 0.003688688799851092}. Best is trial 1 with value: 0.5462.\n",
      "[I 2025-02-20 08:20:58,425] Trial 3 finished with value: 0.0964 and parameters: {'fc1_out': 128, 'fc2_out': 512, 'dropout_rate': 0.4, 'lr': 0.0007992416455483327, 'weight_decay': 0.007207565233832344}. Best is trial 1 with value: 0.5462.\n",
      "[I 2025-02-20 08:21:41,881] Trial 4 finished with value: 0.1024 and parameters: {'fc1_out': 1024, 'fc2_out': 1024, 'dropout_rate': 0.1, 'lr': 0.009087197668059441, 'weight_decay': 1.1658398573131577e-05}. Best is trial 1 with value: 0.5462.\n",
      "[I 2025-02-20 08:22:25,233] Trial 5 finished with value: 0.6036 and parameters: {'fc1_out': 256, 'fc2_out': 128, 'dropout_rate': 0.2, 'lr': 0.00032170003470972073, 'weight_decay': 1.3470348223523404e-05}. Best is trial 5 with value: 0.6036.\n",
      "[I 2025-02-20 08:23:08,790] Trial 6 finished with value: 0.5562 and parameters: {'fc1_out': 512, 'fc2_out': 128, 'dropout_rate': 0.2, 'lr': 0.00023190896861243396, 'weight_decay': 0.00013342148298442187}. Best is trial 5 with value: 0.6036.\n",
      "[I 2025-02-20 08:23:52,214] Trial 7 finished with value: 0.6292 and parameters: {'fc1_out': 512, 'fc2_out': 512, 'dropout_rate': 0.1, 'lr': 0.00023517780717685385, 'weight_decay': 1.1493238694869793e-05}. Best is trial 7 with value: 0.6292.\n",
      "[I 2025-02-20 08:24:35,673] Trial 8 finished with value: 0.0994 and parameters: {'fc1_out': 128, 'fc2_out': 1024, 'dropout_rate': 0.1, 'lr': 0.0015448581184552821, 'weight_decay': 0.0036141207893046288}. Best is trial 7 with value: 0.6292.\n",
      "[I 2025-02-20 08:25:19,122] Trial 9 finished with value: 0.592 and parameters: {'fc1_out': 512, 'fc2_out': 512, 'dropout_rate': 0.2, 'lr': 0.00018948056902876837, 'weight_decay': 0.0003044865877170118}. Best is trial 7 with value: 0.6292.\n",
      "[I 2025-02-20 08:26:02,666] Trial 10 finished with value: 0.3706 and parameters: {'fc1_out': 1024, 'fc2_out': 256, 'dropout_rate': 0.30000000000000004, 'lr': 0.00392145858336202, 'weight_decay': 5.424641136124793e-05}. Best is trial 7 with value: 0.6292.\n",
      "[I 2025-02-20 08:26:46,100] Trial 11 finished with value: 0.6072 and parameters: {'fc1_out': 256, 'fc2_out': 128, 'dropout_rate': 0.2, 'lr': 0.0004729706442491456, 'weight_decay': 1.0384243119145422e-05}. Best is trial 7 with value: 0.6292.\n",
      "[I 2025-02-20 08:27:29,547] Trial 12 finished with value: 0.624 and parameters: {'fc1_out': 256, 'fc2_out': 128, 'dropout_rate': 0.1, 'lr': 0.000549043930460902, 'weight_decay': 4.274280876659957e-05}. Best is trial 7 with value: 0.6292.\n",
      "[I 2025-02-20 08:28:13,109] Trial 13 finished with value: 0.6498 and parameters: {'fc1_out': 512, 'fc2_out': 512, 'dropout_rate': 0.1, 'lr': 0.0006926390632541378, 'weight_decay': 3.8205021079376035e-05}. Best is trial 13 with value: 0.6498.\n",
      "[I 2025-02-20 08:28:56,598] Trial 14 finished with value: 0.5384 and parameters: {'fc1_out': 512, 'fc2_out': 512, 'dropout_rate': 0.1, 'lr': 0.00010477224141513469, 'weight_decay': 3.613730416409081e-05}. Best is trial 13 with value: 0.6498.\n",
      "[I 2025-02-20 08:29:40,410] Trial 15 finished with value: 0.5126 and parameters: {'fc1_out': 512, 'fc2_out': 512, 'dropout_rate': 0.1, 'lr': 0.002157223927913139, 'weight_decay': 0.00016486983796827015}. Best is trial 13 with value: 0.6498.\n",
      "[I 2025-02-20 08:30:23,793] Trial 16 finished with value: 0.6634 and parameters: {'fc1_out': 512, 'fc2_out': 512, 'dropout_rate': 0.30000000000000004, 'lr': 0.0007261663908443073, 'weight_decay': 3.5529268210902454e-05}. Best is trial 16 with value: 0.6634.\n",
      "[I 2025-02-20 08:31:07,321] Trial 17 finished with value: 0.6262 and parameters: {'fc1_out': 512, 'fc2_out': 512, 'dropout_rate': 0.30000000000000004, 'lr': 0.0007660303429948914, 'weight_decay': 7.762190316315805e-05}. Best is trial 16 with value: 0.6634.\n",
      "[I 2025-02-20 08:31:50,708] Trial 18 finished with value: 0.0994 and parameters: {'fc1_out': 512, 'fc2_out': 512, 'dropout_rate': 0.30000000000000004, 'lr': 0.0028037102791604726, 'weight_decay': 0.0007454242185574205}. Best is trial 16 with value: 0.6634.\n",
      "[I 2025-02-20 08:32:34,009] Trial 19 finished with value: 0.6536 and parameters: {'fc1_out': 1024, 'fc2_out': 1024, 'dropout_rate': 0.4, 'lr': 0.0009426831089034027, 'weight_decay': 3.245315056522384e-05}. Best is trial 16 with value: 0.6634.\n",
      "[I 2025-02-20 08:33:17,530] Trial 20 finished with value: 0.1024 and parameters: {'fc1_out': 1024, 'fc2_out': 1024, 'dropout_rate': 0.4, 'lr': 0.006881119250372708, 'weight_decay': 2.4968847697988e-05}. Best is trial 16 with value: 0.6634.\n",
      "[I 2025-02-20 08:34:01,046] Trial 21 finished with value: 0.6206 and parameters: {'fc1_out': 1024, 'fc2_out': 1024, 'dropout_rate': 0.4, 'lr': 0.000996108296237021, 'weight_decay': 2.404550837070808e-05}. Best is trial 16 with value: 0.6634.\n",
      "[I 2025-02-20 08:34:44,671] Trial 22 finished with value: 0.6612 and parameters: {'fc1_out': 1024, 'fc2_out': 1024, 'dropout_rate': 0.30000000000000004, 'lr': 0.0005326825209565536, 'weight_decay': 0.00010340109011213547}. Best is trial 16 with value: 0.6634.\n",
      "[I 2025-02-20 08:35:28,239] Trial 23 finished with value: 0.5748 and parameters: {'fc1_out': 1024, 'fc2_out': 1024, 'dropout_rate': 0.30000000000000004, 'lr': 0.0015483301196208157, 'weight_decay': 9.304557628573701e-05}. Best is trial 16 with value: 0.6634.\n",
      "[I 2025-02-20 08:36:11,516] Trial 24 finished with value: 0.6486 and parameters: {'fc1_out': 1024, 'fc2_out': 1024, 'dropout_rate': 0.4, 'lr': 0.00040518605529203, 'weight_decay': 0.000196326445641496}. Best is trial 16 with value: 0.6634.\n",
      "[I 2025-02-20 08:36:55,011] Trial 25 finished with value: 0.6498 and parameters: {'fc1_out': 1024, 'fc2_out': 1024, 'dropout_rate': 0.30000000000000004, 'lr': 0.0005881038490656551, 'weight_decay': 8.891368449635892e-05}. Best is trial 16 with value: 0.6634.\n",
      "[I 2025-02-20 08:38:35,293] Trial 26 finished with value: 0.6556 and parameters: {'fc1_out': 1024, 'fc2_out': 1024, 'dropout_rate': 0.4, 'lr': 0.0011412822468153151, 'weight_decay': 2.2361096149774013e-05}. Best is trial 16 with value: 0.6634.\n",
      "[I 2025-02-20 08:40:15,634] Trial 27 finished with value: 0.557 and parameters: {'fc1_out': 1024, 'fc2_out': 256, 'dropout_rate': 0.30000000000000004, 'lr': 0.0020685077533842255, 'weight_decay': 6.546106751770908e-05}. Best is trial 16 with value: 0.6634.\n",
      "[I 2025-02-20 08:41:55,047] Trial 28 finished with value: 0.62 and parameters: {'fc1_out': 1024, 'fc2_out': 1024, 'dropout_rate': 0.30000000000000004, 'lr': 0.001293702921166612, 'weight_decay': 2.1396844829477727e-05}. Best is trial 16 with value: 0.6634.\n",
      "[I 2025-02-20 08:43:34,661] Trial 29 finished with value: 0.4122 and parameters: {'fc1_out': 128, 'fc2_out': 1024, 'dropout_rate': 0.4, 'lr': 0.0038159385336480485, 'weight_decay': 0.0004021094208545315}. Best is trial 16 with value: 0.6634.\n",
      "[I 2025-02-20 08:45:14,621] Trial 30 finished with value: 0.6586 and parameters: {'fc1_out': 128, 'fc2_out': 256, 'dropout_rate': 0.2, 'lr': 0.0011308594813887105, 'weight_decay': 0.0012339599421959657}. Best is trial 16 with value: 0.6634.\n",
      "[I 2025-02-20 08:46:54,734] Trial 31 finished with value: 0.6002 and parameters: {'fc1_out': 128, 'fc2_out': 256, 'dropout_rate': 0.2, 'lr': 0.0011483806070828218, 'weight_decay': 0.001452616657694724}. Best is trial 16 with value: 0.6634.\n",
      "[I 2025-02-20 08:48:35,062] Trial 32 finished with value: 0.5836 and parameters: {'fc1_out': 128, 'fc2_out': 256, 'dropout_rate': 0.2, 'lr': 0.0018816391008696996, 'weight_decay': 0.0018309700865984091}. Best is trial 16 with value: 0.6634.\n",
      "[I 2025-02-20 08:50:15,101] Trial 33 finished with value: 0.6624 and parameters: {'fc1_out': 128, 'fc2_out': 256, 'dropout_rate': 0.30000000000000004, 'lr': 0.0006428463846971616, 'weight_decay': 0.0008834350028211873}. Best is trial 16 with value: 0.6634.\n",
      "[I 2025-02-20 08:51:55,237] Trial 34 finished with value: 0.673 and parameters: {'fc1_out': 128, 'fc2_out': 256, 'dropout_rate': 0.30000000000000004, 'lr': 0.0003984450108302414, 'weight_decay': 0.0009432394698646354}. Best is trial 34 with value: 0.673.\n",
      "[I 2025-02-20 08:53:34,838] Trial 35 finished with value: 0.6568 and parameters: {'fc1_out': 128, 'fc2_out': 256, 'dropout_rate': 0.30000000000000004, 'lr': 0.00031305879105658684, 'weight_decay': 0.0008691191890903013}. Best is trial 34 with value: 0.673.\n",
      "[I 2025-02-20 08:55:15,342] Trial 36 finished with value: 0.6656 and parameters: {'fc1_out': 128, 'fc2_out': 256, 'dropout_rate': 0.30000000000000004, 'lr': 0.00042528868386424844, 'weight_decay': 0.0004152679285250671}. Best is trial 34 with value: 0.673.\n",
      "[I 2025-02-20 08:56:55,215] Trial 37 finished with value: 0.6782 and parameters: {'fc1_out': 128, 'fc2_out': 256, 'dropout_rate': 0.30000000000000004, 'lr': 0.0003810215653596995, 'weight_decay': 0.0004156767569312537}. Best is trial 37 with value: 0.6782.\n",
      "[I 2025-02-20 08:58:34,912] Trial 38 finished with value: 0.5898 and parameters: {'fc1_out': 128, 'fc2_out': 256, 'dropout_rate': 0.30000000000000004, 'lr': 0.00014131431493835415, 'weight_decay': 0.00042288101833405097}. Best is trial 37 with value: 0.6782.\n",
      "[I 2025-02-20 09:00:14,843] Trial 39 finished with value: 0.6692 and parameters: {'fc1_out': 128, 'fc2_out': 256, 'dropout_rate': 0.30000000000000004, 'lr': 0.00029150957441838234, 'weight_decay': 0.0002596079007944575}. Best is trial 37 with value: 0.6782.\n",
      "[I 2025-02-20 09:01:54,521] Trial 40 finished with value: 0.6628 and parameters: {'fc1_out': 128, 'fc2_out': 256, 'dropout_rate': 0.30000000000000004, 'lr': 0.0002669188022614531, 'weight_decay': 0.000290056625833972}. Best is trial 37 with value: 0.6782.\n",
      "[I 2025-02-20 09:03:34,167] Trial 41 finished with value: 0.6752 and parameters: {'fc1_out': 128, 'fc2_out': 256, 'dropout_rate': 0.30000000000000004, 'lr': 0.00039461100083841946, 'weight_decay': 0.0005513097798861993}. Best is trial 37 with value: 0.6782.\n",
      "[I 2025-02-20 09:05:14,200] Trial 42 finished with value: 0.6884 and parameters: {'fc1_out': 128, 'fc2_out': 256, 'dropout_rate': 0.30000000000000004, 'lr': 0.0004232805916392213, 'weight_decay': 0.0005750558647476677}. Best is trial 42 with value: 0.6884.\n",
      "[I 2025-02-20 09:06:53,712] Trial 43 finished with value: 0.6662 and parameters: {'fc1_out': 128, 'fc2_out': 256, 'dropout_rate': 0.30000000000000004, 'lr': 0.0003544440484791476, 'weight_decay': 0.0006665992776939941}. Best is trial 42 with value: 0.6884.\n",
      "[I 2025-02-20 09:08:33,325] Trial 44 finished with value: 0.6394 and parameters: {'fc1_out': 128, 'fc2_out': 256, 'dropout_rate': 0.30000000000000004, 'lr': 0.00020686915583157978, 'weight_decay': 0.00026339185805086726}. Best is trial 42 with value: 0.6884.\n",
      "[I 2025-02-20 09:10:13,435] Trial 45 finished with value: 0.5392 and parameters: {'fc1_out': 128, 'fc2_out': 256, 'dropout_rate': 0.30000000000000004, 'lr': 0.00015509786226702399, 'weight_decay': 0.0033760533285369203}. Best is trial 42 with value: 0.6884.\n",
      "[I 2025-02-20 09:11:52,860] Trial 46 finished with value: 0.6792 and parameters: {'fc1_out': 128, 'fc2_out': 256, 'dropout_rate': 0.2, 'lr': 0.00028223015704203743, 'weight_decay': 0.000501756271717192}. Best is trial 42 with value: 0.6884.\n",
      "[I 2025-02-20 09:13:32,626] Trial 47 finished with value: 0.6674 and parameters: {'fc1_out': 128, 'fc2_out': 256, 'dropout_rate': 0.2, 'lr': 0.0002533780366987172, 'weight_decay': 0.0005550559387668732}. Best is trial 42 with value: 0.6884.\n",
      "[I 2025-02-20 09:15:12,172] Trial 48 finished with value: 0.0964 and parameters: {'fc1_out': 256, 'fc2_out': 256, 'dropout_rate': 0.2, 'lr': 0.0004560508150945593, 'weight_decay': 0.008999632277204777}. Best is trial 42 with value: 0.6884.\n",
      "[I 2025-02-20 09:16:51,846] Trial 49 finished with value: 0.6662 and parameters: {'fc1_out': 128, 'fc2_out': 128, 'dropout_rate': 0.2, 'lr': 0.0003679854751498878, 'weight_decay': 0.0011628068028175192}. Best is trial 42 with value: 0.6884.\n",
      "[I 2025-02-20 09:18:31,090] Trial 50 finished with value: 0.5796 and parameters: {'fc1_out': 128, 'fc2_out': 256, 'dropout_rate': 0.2, 'lr': 0.00016701271275522755, 'weight_decay': 0.0021618829950834475}. Best is trial 42 with value: 0.6884.\n",
      "[I 2025-02-20 09:20:10,778] Trial 51 finished with value: 0.6574 and parameters: {'fc1_out': 128, 'fc2_out': 256, 'dropout_rate': 0.30000000000000004, 'lr': 0.0003039948653783713, 'weight_decay': 0.0005264746127196977}. Best is trial 42 with value: 0.6884.\n",
      "[I 2025-02-20 09:21:50,508] Trial 52 finished with value: 0.6624 and parameters: {'fc1_out': 128, 'fc2_out': 256, 'dropout_rate': 0.30000000000000004, 'lr': 0.00028483210771573157, 'weight_decay': 0.00019316832341113193}. Best is trial 42 with value: 0.6884.\n",
      "[I 2025-02-20 09:23:30,105] Trial 53 finished with value: 0.6272 and parameters: {'fc1_out': 128, 'fc2_out': 256, 'dropout_rate': 0.30000000000000004, 'lr': 0.00020806144921025742, 'weight_decay': 0.00023746115565897124}. Best is trial 42 with value: 0.6884.\n",
      "[I 2025-02-20 09:25:10,053] Trial 54 finished with value: 0.5612 and parameters: {'fc1_out': 128, 'fc2_out': 256, 'dropout_rate': 0.30000000000000004, 'lr': 0.00011805193064100129, 'weight_decay': 0.0003640097790114718}. Best is trial 42 with value: 0.6884.\n",
      "[I 2025-02-20 09:26:49,568] Trial 55 finished with value: 0.647 and parameters: {'fc1_out': 256, 'fc2_out': 256, 'dropout_rate': 0.2, 'lr': 0.0002254922430899509, 'weight_decay': 0.0005315361444829512}. Best is trial 42 with value: 0.6884.\n",
      "[I 2025-02-20 09:28:29,385] Trial 56 finished with value: 0.6856 and parameters: {'fc1_out': 128, 'fc2_out': 128, 'dropout_rate': 0.30000000000000004, 'lr': 0.0005279640354990759, 'weight_decay': 0.00013118759276590106}. Best is trial 42 with value: 0.6884.\n",
      "[I 2025-02-20 09:30:08,998] Trial 57 finished with value: 0.6784 and parameters: {'fc1_out': 128, 'fc2_out': 128, 'dropout_rate': 0.30000000000000004, 'lr': 0.0004931546296118247, 'weight_decay': 0.00015146054112356224}. Best is trial 42 with value: 0.6884.\n",
      "[I 2025-02-20 09:31:48,379] Trial 58 finished with value: 0.6796 and parameters: {'fc1_out': 128, 'fc2_out': 128, 'dropout_rate': 0.30000000000000004, 'lr': 0.0005080882739318057, 'weight_decay': 0.0001496612312761603}. Best is trial 42 with value: 0.6884.\n",
      "[I 2025-02-20 09:33:27,758] Trial 59 finished with value: 0.681 and parameters: {'fc1_out': 128, 'fc2_out': 128, 'dropout_rate': 0.2, 'lr': 0.0005095673413524065, 'weight_decay': 0.00012810263768109166}. Best is trial 42 with value: 0.6884.\n",
      "[I 2025-02-20 09:35:06,954] Trial 60 finished with value: 0.6896 and parameters: {'fc1_out': 256, 'fc2_out': 128, 'dropout_rate': 0.2, 'lr': 0.0008773412666855284, 'weight_decay': 0.00012129354022493943}. Best is trial 60 with value: 0.6896.\n",
      "[I 2025-02-20 09:36:46,593] Trial 61 finished with value: 0.6726 and parameters: {'fc1_out': 256, 'fc2_out': 128, 'dropout_rate': 0.2, 'lr': 0.0008495820653128829, 'weight_decay': 0.00013278635489017733}. Best is trial 60 with value: 0.6896.\n",
      "[I 2025-02-20 09:38:26,308] Trial 62 finished with value: 0.68 and parameters: {'fc1_out': 256, 'fc2_out': 128, 'dropout_rate': 0.2, 'lr': 0.0005295330507667479, 'weight_decay': 0.00014927900620110267}. Best is trial 60 with value: 0.6896.\n",
      "[I 2025-02-20 09:40:05,871] Trial 63 finished with value: 0.6982 and parameters: {'fc1_out': 256, 'fc2_out': 128, 'dropout_rate': 0.2, 'lr': 0.000613618455677036, 'weight_decay': 0.00011459331560556965}. Best is trial 63 with value: 0.6982.\n",
      "[I 2025-02-20 09:41:45,667] Trial 64 finished with value: 0.6808 and parameters: {'fc1_out': 256, 'fc2_out': 128, 'dropout_rate': 0.2, 'lr': 0.0006050508374417068, 'weight_decay': 0.00011451278508020091}. Best is trial 63 with value: 0.6982.\n",
      "[I 2025-02-20 09:43:25,057] Trial 65 finished with value: 0.7038 and parameters: {'fc1_out': 256, 'fc2_out': 128, 'dropout_rate': 0.2, 'lr': 0.000657688200046267, 'weight_decay': 0.00011255457175417183}. Best is trial 65 with value: 0.7038.\n",
      "[I 2025-02-20 09:45:04,628] Trial 66 finished with value: 0.6952 and parameters: {'fc1_out': 256, 'fc2_out': 128, 'dropout_rate': 0.2, 'lr': 0.0006511172661566122, 'weight_decay': 5.331242086557379e-05}. Best is trial 65 with value: 0.7038.\n",
      "[I 2025-02-20 09:46:44,216] Trial 67 finished with value: 0.6908 and parameters: {'fc1_out': 256, 'fc2_out': 128, 'dropout_rate': 0.1, 'lr': 0.0008277869485199559, 'weight_decay': 5.1416915117215137e-05}. Best is trial 65 with value: 0.7038.\n",
      "[I 2025-02-20 09:48:23,703] Trial 68 finished with value: 0.6962 and parameters: {'fc1_out': 256, 'fc2_out': 128, 'dropout_rate': 0.1, 'lr': 0.0008021730860257968, 'weight_decay': 5.374681437538568e-05}. Best is trial 65 with value: 0.7038.\n",
      "[I 2025-02-20 09:50:03,222] Trial 69 finished with value: 0.6842 and parameters: {'fc1_out': 256, 'fc2_out': 128, 'dropout_rate': 0.1, 'lr': 0.0008482039890109218, 'weight_decay': 4.997569446414333e-05}. Best is trial 65 with value: 0.7038.\n",
      "[I 2025-02-20 09:51:42,930] Trial 70 finished with value: 0.6836 and parameters: {'fc1_out': 256, 'fc2_out': 128, 'dropout_rate': 0.1, 'lr': 0.0006879152739204121, 'weight_decay': 7.140240201680277e-05}. Best is trial 65 with value: 0.7038.\n",
      "[I 2025-02-20 09:53:22,616] Trial 71 finished with value: 0.693 and parameters: {'fc1_out': 256, 'fc2_out': 128, 'dropout_rate': 0.1, 'lr': 0.0007649878331780115, 'weight_decay': 5.34896717499749e-05}. Best is trial 65 with value: 0.7038.\n",
      "[I 2025-02-20 09:55:01,590] Trial 72 finished with value: 0.6896 and parameters: {'fc1_out': 256, 'fc2_out': 128, 'dropout_rate': 0.1, 'lr': 0.0009073671221815557, 'weight_decay': 5.56622189988765e-05}. Best is trial 65 with value: 0.7038.\n",
      "[I 2025-02-20 09:56:40,543] Trial 73 finished with value: 0.673 and parameters: {'fc1_out': 256, 'fc2_out': 128, 'dropout_rate': 0.1, 'lr': 0.0013623865754490505, 'weight_decay': 5.60196522159282e-05}. Best is trial 65 with value: 0.7038.\n",
      "[I 2025-02-20 09:58:19,588] Trial 74 finished with value: 0.6706 and parameters: {'fc1_out': 256, 'fc2_out': 128, 'dropout_rate': 0.1, 'lr': 0.0009468114774576485, 'weight_decay': 1.5383498705496697e-05}. Best is trial 65 with value: 0.7038.\n"
     ]
    },
    {
     "name": "stdout",
     "output_type": "stream",
     "text": [
      "CPU times: user 1h 38min 20s, sys: 46 s, total: 1h 39min 6s\n",
      "Wall time: 1h 40min 15s\n"
     ]
    }
   ],
   "source": [
    "%%time\n",
    "# Run the Optuna study\n",
    "study = optuna.create_study(direction = \"maximize\")\n",
    "study.optimize(objective, n_trials = 75 )"
   ]
  },
  {
   "cell_type": "code",
   "execution_count": 28,
   "id": "0379ecc4",
   "metadata": {
    "execution": {
     "iopub.execute_input": "2025-02-20T09:58:19.638801Z",
     "iopub.status.busy": "2025-02-20T09:58:19.638562Z",
     "iopub.status.idle": "2025-02-20T09:58:19.643202Z",
     "shell.execute_reply": "2025-02-20T09:58:19.642489Z"
    },
    "papermill": {
     "duration": 0.021046,
     "end_time": "2025-02-20T09:58:19.644348",
     "exception": false,
     "start_time": "2025-02-20T09:58:19.623302",
     "status": "completed"
    },
    "tags": []
   },
   "outputs": [
    {
     "name": "stdout",
     "output_type": "stream",
     "text": [
      "Best hyperparameters: {'fc1_out': 256, 'fc2_out': 128, 'dropout_rate': 0.2, 'lr': 0.000657688200046267, 'weight_decay': 0.00011255457175417183}\n"
     ]
    }
   ],
   "source": [
    "# Print the best parameters\n",
    "best_params = study.best_params\n",
    "print(\"Best hyperparameters:\", best_params)"
   ]
  },
  {
   "cell_type": "markdown",
   "id": "6399f73e",
   "metadata": {
    "papermill": {
     "duration": 0.014325,
     "end_time": "2025-02-20T09:58:19.673475",
     "exception": false,
     "start_time": "2025-02-20T09:58:19.659150",
     "status": "completed"
    },
    "tags": []
   },
   "source": [
    "## Last Time Training "
   ]
  },
  {
   "cell_type": "code",
   "execution_count": 29,
   "id": "bb2d6069",
   "metadata": {
    "execution": {
     "iopub.execute_input": "2025-02-20T09:58:19.703215Z",
     "iopub.status.busy": "2025-02-20T09:58:19.703009Z",
     "iopub.status.idle": "2025-02-20T10:58:39.690722Z",
     "shell.execute_reply": "2025-02-20T10:58:39.689826Z"
    },
    "papermill": {
     "duration": 3620.019922,
     "end_time": "2025-02-20T10:58:39.707915",
     "exception": false,
     "start_time": "2025-02-20T09:58:19.687993",
     "status": "completed"
    },
    "tags": []
   },
   "outputs": [
    {
     "name": "stdout",
     "output_type": "stream",
     "text": [
      "Epoch [1/20]\n",
      "Training Loss = 1.0532, Training Accuracy = 0.6206\n",
      "Validation Loss = 1.0756, Validation Accuracy = 0.6108\n",
      "\n",
      "\n",
      "Epoch [2/20]\n",
      "Training Loss = 0.8336, Training Accuracy = 0.7067\n",
      "Validation Loss = 0.9062, Validation Accuracy = 0.6798\n",
      "\n",
      "\n",
      "Epoch [3/20]\n",
      "Training Loss = 0.7507, Training Accuracy = 0.7403\n",
      "Validation Loss = 0.845, Validation Accuracy = 0.7072\n",
      "\n",
      "\n",
      "Epoch [4/20]\n",
      "Training Loss = 0.6747, Training Accuracy = 0.7643\n",
      "Validation Loss = 0.7977, Validation Accuracy = 0.7286\n",
      "\n",
      "\n",
      "Epoch [5/20]\n",
      "Training Loss = 0.5888, Training Accuracy = 0.7967\n",
      "Validation Loss = 0.7481, Validation Accuracy = 0.743\n",
      "\n",
      "\n",
      "Epoch [6/20]\n",
      "Training Loss = 0.5542, Training Accuracy = 0.8076\n",
      "Validation Loss = 0.7198, Validation Accuracy = 0.7556\n",
      "\n",
      "\n",
      "Epoch [7/20]\n",
      "Training Loss = 0.5543, Training Accuracy = 0.8064\n",
      "Validation Loss = 0.7308, Validation Accuracy = 0.7548\n",
      "\n",
      "\n",
      "Epoch [8/20]\n",
      "Training Loss = 0.5365, Training Accuracy = 0.8118\n",
      "Validation Loss = 0.7449, Validation Accuracy = 0.7444\n",
      "\n",
      "\n",
      "Epoch [9/20]\n",
      "Training Loss = 0.4888, Training Accuracy = 0.8295\n",
      "Validation Loss = 0.7011, Validation Accuracy = 0.7648\n",
      "\n",
      "\n",
      "Epoch [10/20]\n",
      "Training Loss = 0.4882, Training Accuracy = 0.8299\n",
      "Validation Loss = 0.7129, Validation Accuracy = 0.7654\n",
      "\n",
      "\n",
      "Epoch [11/20]\n",
      "Training Loss = 0.4653, Training Accuracy = 0.8366\n",
      "Validation Loss = 0.7067, Validation Accuracy = 0.7674\n",
      "\n",
      "\n",
      "Epoch [12/20]\n",
      "Training Loss = 0.4458, Training Accuracy = 0.8466\n",
      "Validation Loss = 0.691, Validation Accuracy = 0.7706\n",
      "\n",
      "\n",
      "Epoch [13/20]\n",
      "Training Loss = 0.4225, Training Accuracy = 0.8532\n",
      "Validation Loss = 0.6946, Validation Accuracy = 0.7618\n",
      "\n",
      "\n",
      "Epoch [14/20]\n",
      "Training Loss = 0.4383, Training Accuracy = 0.8483\n",
      "Validation Loss = 0.7253, Validation Accuracy = 0.7604\n",
      "\n",
      "\n",
      "Epoch [15/20]\n",
      "Training Loss = 0.4328, Training Accuracy = 0.8481\n",
      "Validation Loss = 0.7197, Validation Accuracy = 0.765\n",
      "\n",
      "\n",
      "Epoch [16/20]\n",
      "Training Loss = 0.3955, Training Accuracy = 0.8609\n",
      "Validation Loss = 0.7116, Validation Accuracy = 0.7682\n",
      "\n",
      "\n",
      "Epoch [17/20]\n",
      "Training Loss = 0.4479, Training Accuracy = 0.8457\n",
      "Validation Loss = 0.7553, Validation Accuracy = 0.7558\n",
      "\n",
      "\n",
      "Epoch [18/20]\n",
      "Training Loss = 0.4143, Training Accuracy = 0.8539\n",
      "Validation Loss = 0.7582, Validation Accuracy = 0.7682\n",
      "\n",
      "\n",
      "Epoch [19/20]\n",
      "Training Loss = 0.3561, Training Accuracy = 0.8765\n",
      "Validation Loss = 0.7103, Validation Accuracy = 0.7808\n",
      "\n",
      "\n",
      "Epoch [20/20]\n",
      "Training Loss = 0.3837, Training Accuracy = 0.8671\n",
      "Validation Loss = 0.7343, Validation Accuracy = 0.7664\n",
      "\n",
      "\n",
      "Done!!!\n",
      "CPU times: user 1h 4s, sys: 7.93 s, total: 1h 12s\n",
      "Wall time: 1h 19s\n"
     ]
    },
    {
     "data": {
      "text/plain": [
       "([1.0532,\n",
       "  0.8336,\n",
       "  0.7507,\n",
       "  0.6747,\n",
       "  0.5888,\n",
       "  0.5542,\n",
       "  0.5543,\n",
       "  0.5365,\n",
       "  0.4888,\n",
       "  0.4882,\n",
       "  0.4653,\n",
       "  0.4458,\n",
       "  0.4225,\n",
       "  0.4383,\n",
       "  0.4328,\n",
       "  0.3955,\n",
       "  0.4479,\n",
       "  0.4143,\n",
       "  0.3561,\n",
       "  0.3837],\n",
       " [0.6206,\n",
       "  0.7067,\n",
       "  0.7403,\n",
       "  0.7643,\n",
       "  0.7967,\n",
       "  0.8076,\n",
       "  0.8064,\n",
       "  0.8118,\n",
       "  0.8295,\n",
       "  0.8299,\n",
       "  0.8366,\n",
       "  0.8466,\n",
       "  0.8532,\n",
       "  0.8483,\n",
       "  0.8481,\n",
       "  0.8609,\n",
       "  0.8457,\n",
       "  0.8539,\n",
       "  0.8765,\n",
       "  0.8671],\n",
       " [1.0756,\n",
       "  0.9062,\n",
       "  0.845,\n",
       "  0.7977,\n",
       "  0.7481,\n",
       "  0.7198,\n",
       "  0.7308,\n",
       "  0.7449,\n",
       "  0.7011,\n",
       "  0.7129,\n",
       "  0.7067,\n",
       "  0.691,\n",
       "  0.6946,\n",
       "  0.7253,\n",
       "  0.7197,\n",
       "  0.7116,\n",
       "  0.7553,\n",
       "  0.7582,\n",
       "  0.7103,\n",
       "  0.7343],\n",
       " [0.6108,\n",
       "  0.6798,\n",
       "  0.7072,\n",
       "  0.7286,\n",
       "  0.743,\n",
       "  0.7556,\n",
       "  0.7548,\n",
       "  0.7444,\n",
       "  0.7648,\n",
       "  0.7654,\n",
       "  0.7674,\n",
       "  0.7706,\n",
       "  0.7618,\n",
       "  0.7604,\n",
       "  0.765,\n",
       "  0.7682,\n",
       "  0.7558,\n",
       "  0.7682,\n",
       "  0.7808,\n",
       "  0.7664])"
      ]
     },
     "execution_count": 29,
     "metadata": {},
     "output_type": "execute_result"
    }
   ],
   "source": [
    "%%time\n",
    "# Create a new model using the best hyperparameters\n",
    "model3 = Model(\n",
    "    fc1_out = best_params[\"fc1_out\"],\n",
    "    fc2_out = best_params[\"fc2_out\"],\n",
    "    dropout_rate = best_params[\"dropout_rate\"]\n",
    ")\n",
    "model3.to(device)\n",
    "\n",
    "# Define optimizer and loss function\n",
    "optimizer3 = optim.Adam(model3.parameters(), \n",
    "                            lr=best_params[\"lr\"], \n",
    "                            weight_decay=best_params[\"weight_decay\"])\n",
    "\n",
    "# Train the new model\n",
    "train_model(model3, optimizer3, augmented_loader, valid_loader, 20)\n"
   ]
  },
  {
   "cell_type": "code",
   "execution_count": 30,
   "id": "3d80e544",
   "metadata": {
    "execution": {
     "iopub.execute_input": "2025-02-20T10:58:39.740172Z",
     "iopub.status.busy": "2025-02-20T10:58:39.739907Z",
     "iopub.status.idle": "2025-02-20T10:58:39.805212Z",
     "shell.execute_reply": "2025-02-20T10:58:39.804490Z"
    },
    "papermill": {
     "duration": 0.082935,
     "end_time": "2025-02-20T10:58:39.806574",
     "exception": false,
     "start_time": "2025-02-20T10:58:39.723639",
     "status": "completed"
    },
    "tags": []
   },
   "outputs": [
    {
     "data": {
      "text/html": [
       "<iframe\n",
       "    scrolling=\"no\"\n",
       "    width=\"100%\"\n",
       "    height=\"545px\"\n",
       "    src=\"iframe_figures/figure_30.html\"\n",
       "    frameborder=\"0\"\n",
       "    allowfullscreen\n",
       "></iframe>\n"
      ]
     },
     "metadata": {},
     "output_type": "display_data"
    }
   ],
   "source": [
    "epochs = list(range(1, len(train_losses) + 1))  # Epoch numbers\n",
    "fig_loss = px.line(x=epochs, y=[train_losses, val_losses], \n",
    "                   title='Training and Validation Loss',\n",
    "                   labels={'x': 'Epoch', 'y': 'Loss',\n",
    "                           \"train_losses\": \"Training Loss\" , \"val_losses\":\"Validation Loss\" })\n",
    "\n",
    "fig_loss.show(renderer = \"iframe\")"
   ]
  },
  {
   "cell_type": "code",
   "execution_count": 31,
   "id": "75176db6",
   "metadata": {
    "execution": {
     "iopub.execute_input": "2025-02-20T10:58:39.839375Z",
     "iopub.status.busy": "2025-02-20T10:58:39.839146Z",
     "iopub.status.idle": "2025-02-20T10:58:39.900114Z",
     "shell.execute_reply": "2025-02-20T10:58:39.899446Z"
    },
    "papermill": {
     "duration": 0.078734,
     "end_time": "2025-02-20T10:58:39.901362",
     "exception": false,
     "start_time": "2025-02-20T10:58:39.822628",
     "status": "completed"
    },
    "tags": []
   },
   "outputs": [
    {
     "data": {
      "text/html": [
       "<iframe\n",
       "    scrolling=\"no\"\n",
       "    width=\"100%\"\n",
       "    height=\"545px\"\n",
       "    src=\"iframe_figures/figure_31.html\"\n",
       "    frameborder=\"0\"\n",
       "    allowfullscreen\n",
       "></iframe>\n"
      ]
     },
     "metadata": {},
     "output_type": "display_data"
    }
   ],
   "source": [
    "fig_accuracy = px.line(x = epochs, y = [train_accuracies, val_accuracies], \n",
    "                       title = 'Training and Validation Accuracy',\n",
    "                       labels = {'x': 'Epoch', 'y': 'Accuracy'})\n",
    "fig_accuracy.show(renderer = \"iframe\")"
   ]
  },
  {
   "cell_type": "markdown",
   "id": "4f87d901",
   "metadata": {
    "papermill": {
     "duration": 0.015456,
     "end_time": "2025-02-20T10:58:39.933033",
     "exception": false,
     "start_time": "2025-02-20T10:58:39.917577",
     "status": "completed"
    },
    "tags": []
   },
   "source": [
    "## Test set evaluation"
   ]
  },
  {
   "cell_type": "code",
   "execution_count": 32,
   "id": "b0ba8a84",
   "metadata": {
    "execution": {
     "iopub.execute_input": "2025-02-20T10:58:39.965022Z",
     "iopub.status.busy": "2025-02-20T10:58:39.964797Z",
     "iopub.status.idle": "2025-02-20T10:58:40.855559Z",
     "shell.execute_reply": "2025-02-20T10:58:40.854771Z"
    },
    "papermill": {
     "duration": 0.908386,
     "end_time": "2025-02-20T10:58:40.856978",
     "exception": false,
     "start_time": "2025-02-20T10:58:39.948592",
     "status": "completed"
    },
    "tags": []
   },
   "outputs": [
    {
     "data": {
      "text/plain": [
       "0.7698"
      ]
     },
     "execution_count": 32,
     "metadata": {},
     "output_type": "execute_result"
    }
   ],
   "source": [
    "calculate_accuracy(model3, test_loader)"
   ]
  }
 ],
 "metadata": {
  "kaggle": {
   "accelerator": "none",
   "dataSources": [],
   "dockerImageVersionId": 30886,
   "isGpuEnabled": false,
   "isInternetEnabled": true,
   "language": "python",
   "sourceType": "notebook"
  },
  "kernelspec": {
   "display_name": "Python 3",
   "language": "python",
   "name": "python3"
  },
  "language_info": {
   "codemirror_mode": {
    "name": "ipython",
    "version": 3
   },
   "file_extension": ".py",
   "mimetype": "text/x-python",
   "name": "python",
   "nbconvert_exporter": "python",
   "pygments_lexer": "ipython3",
   "version": "3.10.12"
  },
  "papermill": {
   "default_parameters": {},
   "duration": 11836.694378,
   "end_time": "2025-02-20T10:58:43.339080",
   "environment_variables": {},
   "exception": null,
   "input_path": "__notebook__.ipynb",
   "output_path": "__notebook__.ipynb",
   "parameters": {},
   "start_time": "2025-02-20T07:41:26.644702",
   "version": "2.6.0"
  }
 },
 "nbformat": 4,
 "nbformat_minor": 5
}
