{
 "cells": [
  {
   "cell_type": "code",
   "execution_count": 1,
   "id": "ee86e994",
   "metadata": {
    "_cell_guid": "b1076dfc-b9ad-4769-8c92-a6c4dae69d19",
    "_uuid": "8f2839f25d086af736a60e9eeb907d3b93b6e0e5",
    "execution": {
     "iopub.execute_input": "2025-02-20T04:28:48.375541Z",
     "iopub.status.busy": "2025-02-20T04:28:48.375212Z",
     "iopub.status.idle": "2025-02-20T04:28:57.771425Z",
     "shell.execute_reply": "2025-02-20T04:28:57.770502Z"
    },
    "papermill": {
     "duration": 9.40554,
     "end_time": "2025-02-20T04:28:57.773010",
     "exception": false,
     "start_time": "2025-02-20T04:28:48.367470",
     "status": "completed"
    },
    "tags": []
   },
   "outputs": [],
   "source": [
    "# This Python 3 environment comes with many helpful analytics libraries installed\n",
    "# It is defined by the kaggle/python Docker image: https://github.com/kaggle/docker-python\n",
    "# For example, here's several helpful packages to load\n",
    "\n",
    "import numpy as np # linear algebra\n",
    "import pandas as pd # data processing, CSV file I/O (e.g. pd.read_csv)\n",
    "import torch \n",
    "import torch.nn as nn\n",
    "import torchvision\n",
    "import plotly.express as px\n",
    "import torchvision.transforms as transforms\n",
    "import torch.optim as optim\n",
    "from torch.utils.data import random_split, ConcatDataset, Dataset\n",
    "import torch.nn.functional as F\n",
    "import optuna\n",
    "import plotly.subplots as sp\n",
    "\n",
    "\n",
    "# Input data files are available in the read-only \"../input/\" directory\n",
    "# For example, running this (by clicking run or pressing Shift+Enter) will list all files under the input directory\n",
    "\n",
    "import os\n",
    "for dirname, _, filenames in os.walk('/kaggle/input'):\n",
    "    for filename in filenames:\n",
    "        print(os.path.join(dirname, filename))\n",
    "\n",
    "# You can write up to 20GB to the current directory (/kaggle/working/) that gets preserved as output when you create a version using \"Save & Run All\" \n",
    "# You can also write temporary files to /kaggle/temp/, but they won't be saved outside of the current session"
   ]
  },
  {
   "cell_type": "markdown",
   "id": "e5de571d",
   "metadata": {
    "papermill": {
     "duration": 0.005865,
     "end_time": "2025-02-20T04:28:57.785371",
     "exception": false,
     "start_time": "2025-02-20T04:28:57.779506",
     "status": "completed"
    },
    "tags": []
   },
   "source": [
    "## Load the dataset"
   ]
  },
  {
   "cell_type": "code",
   "execution_count": 2,
   "id": "754ae16b",
   "metadata": {
    "execution": {
     "iopub.execute_input": "2025-02-20T04:28:57.798298Z",
     "iopub.status.busy": "2025-02-20T04:28:57.797874Z",
     "iopub.status.idle": "2025-02-20T04:29:07.628600Z",
     "shell.execute_reply": "2025-02-20T04:29:07.627920Z"
    },
    "papermill": {
     "duration": 9.838833,
     "end_time": "2025-02-20T04:29:07.630162",
     "exception": false,
     "start_time": "2025-02-20T04:28:57.791329",
     "status": "completed"
    },
    "tags": []
   },
   "outputs": [
    {
     "name": "stdout",
     "output_type": "stream",
     "text": [
      "Downloading https://www.cs.toronto.edu/~kriz/cifar-10-python.tar.gz to ./cifar-10-python.tar.gz\n"
     ]
    },
    {
     "name": "stderr",
     "output_type": "stream",
     "text": [
      "100%|██████████| 170M/170M [00:06<00:00, 26.9MB/s]\n"
     ]
    },
    {
     "name": "stdout",
     "output_type": "stream",
     "text": [
      "Extracting ./cifar-10-python.tar.gz to ./\n",
      "Files already downloaded and verified\n"
     ]
    }
   ],
   "source": [
    "# Load the training dataset\n",
    "training_set = torchvision.datasets.CIFAR10( root = \"./\",train=True,\n",
    "                                             download=True,transform = transforms.ToTensor() )\n",
    "\n",
    "# Load the test dataset\n",
    "test_set = torchvision.datasets.CIFAR10( root  = \"./\", train=False,\n",
    "                                         download=True, transform = transforms.ToTensor())\n",
    "\n",
    "# Split the test set to validation and test set\n",
    "test_set, validation_set = random_split(test_set, [5000, 5000])\n"
   ]
  },
  {
   "cell_type": "markdown",
   "id": "f1e25919",
   "metadata": {
    "papermill": {
     "duration": 0.008588,
     "end_time": "2025-02-20T04:29:07.648011",
     "exception": false,
     "start_time": "2025-02-20T04:29:07.639423",
     "status": "completed"
    },
    "tags": []
   },
   "source": [
    "## Visualization"
   ]
  },
  {
   "cell_type": "code",
   "execution_count": 3,
   "id": "6f7efd88",
   "metadata": {
    "execution": {
     "iopub.execute_input": "2025-02-20T04:29:07.666401Z",
     "iopub.status.busy": "2025-02-20T04:29:07.666162Z",
     "iopub.status.idle": "2025-02-20T04:29:07.671441Z",
     "shell.execute_reply": "2025-02-20T04:29:07.670610Z"
    },
    "papermill": {
     "duration": 0.016149,
     "end_time": "2025-02-20T04:29:07.672824",
     "exception": false,
     "start_time": "2025-02-20T04:29:07.656675",
     "status": "completed"
    },
    "tags": []
   },
   "outputs": [
    {
     "data": {
      "text/plain": [
       "Dataset CIFAR10\n",
       "    Number of datapoints: 50000\n",
       "    Root location: ./\n",
       "    Split: Train\n",
       "    StandardTransform\n",
       "Transform: ToTensor()"
      ]
     },
     "execution_count": 3,
     "metadata": {},
     "output_type": "execute_result"
    }
   ],
   "source": [
    "training_set"
   ]
  },
  {
   "cell_type": "code",
   "execution_count": 4,
   "id": "415d33a0",
   "metadata": {
    "execution": {
     "iopub.execute_input": "2025-02-20T04:29:07.695333Z",
     "iopub.status.busy": "2025-02-20T04:29:07.695122Z",
     "iopub.status.idle": "2025-02-20T04:29:07.774182Z",
     "shell.execute_reply": "2025-02-20T04:29:07.773517Z"
    },
    "papermill": {
     "duration": 0.09128,
     "end_time": "2025-02-20T04:29:07.775377",
     "exception": false,
     "start_time": "2025-02-20T04:29:07.684097",
     "status": "completed"
    },
    "tags": []
   },
   "outputs": [
    {
     "name": "stdout",
     "output_type": "stream",
     "text": [
      "<class 'tuple'>\n",
      "2\n"
     ]
    },
    {
     "data": {
      "text/plain": [
       "(tensor([[[0.2314, 0.1686, 0.1961,  ..., 0.6196, 0.5961, 0.5804],\n",
       "          [0.0627, 0.0000, 0.0706,  ..., 0.4824, 0.4667, 0.4784],\n",
       "          [0.0980, 0.0627, 0.1922,  ..., 0.4627, 0.4706, 0.4275],\n",
       "          ...,\n",
       "          [0.8157, 0.7882, 0.7765,  ..., 0.6275, 0.2196, 0.2078],\n",
       "          [0.7059, 0.6784, 0.7294,  ..., 0.7216, 0.3804, 0.3255],\n",
       "          [0.6941, 0.6588, 0.7020,  ..., 0.8471, 0.5922, 0.4824]],\n",
       " \n",
       "         [[0.2431, 0.1804, 0.1882,  ..., 0.5176, 0.4902, 0.4863],\n",
       "          [0.0784, 0.0000, 0.0314,  ..., 0.3451, 0.3255, 0.3412],\n",
       "          [0.0941, 0.0275, 0.1059,  ..., 0.3294, 0.3294, 0.2863],\n",
       "          ...,\n",
       "          [0.6667, 0.6000, 0.6314,  ..., 0.5216, 0.1216, 0.1333],\n",
       "          [0.5451, 0.4824, 0.5647,  ..., 0.5804, 0.2431, 0.2078],\n",
       "          [0.5647, 0.5059, 0.5569,  ..., 0.7216, 0.4627, 0.3608]],\n",
       " \n",
       "         [[0.2471, 0.1765, 0.1686,  ..., 0.4235, 0.4000, 0.4039],\n",
       "          [0.0784, 0.0000, 0.0000,  ..., 0.2157, 0.1961, 0.2235],\n",
       "          [0.0824, 0.0000, 0.0314,  ..., 0.1961, 0.1961, 0.1647],\n",
       "          ...,\n",
       "          [0.3765, 0.1333, 0.1020,  ..., 0.2745, 0.0275, 0.0784],\n",
       "          [0.3765, 0.1647, 0.1176,  ..., 0.3686, 0.1333, 0.1333],\n",
       "          [0.4549, 0.3686, 0.3412,  ..., 0.5490, 0.3294, 0.2824]]]),\n",
       " 6)"
      ]
     },
     "execution_count": 4,
     "metadata": {},
     "output_type": "execute_result"
    }
   ],
   "source": [
    "print (type(training_set[0]))\n",
    "print (len(training_set[0]))\n",
    "training_set[0]\n"
   ]
  },
  {
   "cell_type": "markdown",
   "id": "2604b118",
   "metadata": {
    "papermill": {
     "duration": 0.008728,
     "end_time": "2025-02-20T04:29:07.793181",
     "exception": false,
     "start_time": "2025-02-20T04:29:07.784453",
     "status": "completed"
    },
    "tags": []
   },
   "source": [
    "Each row of the dataset is a tuple of length 2 containing the image and its label"
   ]
  },
  {
   "cell_type": "code",
   "execution_count": 5,
   "id": "d59dc97a",
   "metadata": {
    "execution": {
     "iopub.execute_input": "2025-02-20T04:29:07.811623Z",
     "iopub.status.busy": "2025-02-20T04:29:07.811390Z",
     "iopub.status.idle": "2025-02-20T04:29:07.814579Z",
     "shell.execute_reply": "2025-02-20T04:29:07.813808Z"
    },
    "papermill": {
     "duration": 0.013973,
     "end_time": "2025-02-20T04:29:07.815911",
     "exception": false,
     "start_time": "2025-02-20T04:29:07.801938",
     "status": "completed"
    },
    "tags": []
   },
   "outputs": [],
   "source": [
    "#  List of class names corresponding to the CIFAR-10 dataset categories\n",
    "class_name = ['airplane', 'automobile', 'bird', 'cat', 'deer', 'dog', 'frog', 'horse', 'ship', 'truck']"
   ]
  },
  {
   "cell_type": "code",
   "execution_count": 6,
   "id": "74a7aaea",
   "metadata": {
    "execution": {
     "iopub.execute_input": "2025-02-20T04:29:07.837039Z",
     "iopub.status.busy": "2025-02-20T04:29:07.836835Z",
     "iopub.status.idle": "2025-02-20T04:29:09.497782Z",
     "shell.execute_reply": "2025-02-20T04:29:09.497012Z"
    },
    "papermill": {
     "duration": 1.674308,
     "end_time": "2025-02-20T04:29:09.499231",
     "exception": false,
     "start_time": "2025-02-20T04:29:07.824923",
     "status": "completed"
    },
    "tags": []
   },
   "outputs": [
    {
     "data": {
      "text/html": [
       "<iframe\n",
       "    scrolling=\"no\"\n",
       "    width=\"100%\"\n",
       "    height=\"545px\"\n",
       "    src=\"iframe_figures/figure_6.html\"\n",
       "    frameborder=\"0\"\n",
       "    allowfullscreen\n",
       "></iframe>\n"
      ]
     },
     "metadata": {},
     "output_type": "display_data"
    }
   ],
   "source": [
    "# Create a 2x2 grid of subplots\n",
    "fig = sp.make_subplots(rows=3, cols=3,\n",
    "                       subplot_titles=[class_name[training_set[i][1]] for i in range(9)])\n",
    "\n",
    "for i in range(3):\n",
    "    for j in range(3):\n",
    "        image_tensor = training_set[i*3+j][0]\n",
    "        # transpose it to (height, width, channels) instead of (channels, height, width)\n",
    "        image_np = image_tensor.numpy().transpose(1, 2, 0)\n",
    "        \n",
    "        # Add each image to the subplots\n",
    "        fig.add_trace(px.imshow(image_np).data[0], row=i+1, col=j+1)\n",
    "\n",
    "\n",
    "fig.update_xaxes(showticklabels=False, showgrid=False, zeroline=False)\n",
    "fig.update_yaxes(showticklabels=False, showgrid=False, zeroline=False)\n",
    "\n",
    "# Show the plot\n",
    "fig.show(renderer = \"iframe\")"
   ]
  },
  {
   "cell_type": "markdown",
   "id": "a1e62d08",
   "metadata": {
    "papermill": {
     "duration": 0.010614,
     "end_time": "2025-02-20T04:29:09.521038",
     "exception": false,
     "start_time": "2025-02-20T04:29:09.510424",
     "status": "completed"
    },
    "tags": []
   },
   "source": [
    "## Create Model"
   ]
  },
  {
   "cell_type": "code",
   "execution_count": 7,
   "id": "1a7b93d3",
   "metadata": {
    "execution": {
     "iopub.execute_input": "2025-02-20T04:29:09.543419Z",
     "iopub.status.busy": "2025-02-20T04:29:09.543168Z",
     "iopub.status.idle": "2025-02-20T04:29:09.550821Z",
     "shell.execute_reply": "2025-02-20T04:29:09.550164Z"
    },
    "papermill": {
     "duration": 0.02025,
     "end_time": "2025-02-20T04:29:09.552125",
     "exception": false,
     "start_time": "2025-02-20T04:29:09.531875",
     "status": "completed"
    },
    "tags": []
   },
   "outputs": [],
   "source": [
    "class Model(nn.Module):\n",
    "    def __init__(self,  conv1_out=32, conv2_out=64, conv3_out=128, kernel_size=3, \n",
    "                 pool_kernel=2, pool_stride=2, fc1_out=256, fc2_out=128, dropout_rate=0.1):\n",
    "        super(Model, self).__init__()\n",
    "        \n",
    "        # Model parameters\n",
    "        self.conv1_out = conv1_out\n",
    "        self.conv2_out = conv2_out\n",
    "        self.conv3_out = conv3_out\n",
    "        self.kernel_size = kernel_size\n",
    "        self.pool_kernel = pool_kernel\n",
    "        self.pool_stride = pool_stride\n",
    "        self.fc1_out = fc1_out\n",
    "        self.fc2_out = fc2_out\n",
    "        self.dropout_rate = dropout_rate\n",
    "        \n",
    "        # Define layers\n",
    "        self.conv1 = nn.Conv2d(3, self.conv1_out, self.kernel_size)\n",
    "        self.conv2 = nn.Conv2d(self.conv1_out, self.conv2_out, self.kernel_size)\n",
    "        self.conv3 = nn.Conv2d(self.conv2_out, self.conv3_out, self.kernel_size)\n",
    "        \n",
    "        self.pool = nn.MaxPool2d(self.pool_kernel, self.pool_stride)\n",
    "        \n",
    "        # Adjusted input size after convolutions and pooling\n",
    "        self.fc1_in = self.conv3_out * 2 * 2\n",
    "        \n",
    "        self.fc1 = nn.Linear(self.fc1_in, self.fc1_out)\n",
    "        self.fc2 = nn.Linear(self.fc1_out, self.fc2_out)\n",
    "        self.fc3 = nn.Linear(self.fc2_out, 10)\n",
    "        \n",
    "        self.dropout = nn.Dropout(self.dropout_rate)\n",
    "    \n",
    "    def forward(self, x):\n",
    "        \n",
    "        x = self.pool(F.relu(self.conv1(x)))\n",
    "        x = self.pool(F.relu(self.conv2(x)))\n",
    "        x = self.pool(F.relu(self.conv3(x)))\n",
    "    \n",
    "        x = x.view(-1, self.fc1_in)  \n",
    "    \n",
    "        x = F.relu(self.fc1(x))\n",
    "        x = self.dropout(x)  \n",
    "    \n",
    "        x = F.relu(self.fc2(x))\n",
    "        x = self.dropout(x)  \n",
    "    \n",
    "        x = self.fc3(x)\n",
    "        \n",
    "        return x\n"
   ]
  },
  {
   "cell_type": "markdown",
   "id": "b9d69979",
   "metadata": {
    "papermill": {
     "duration": 0.009119,
     "end_time": "2025-02-20T04:29:09.570519",
     "exception": false,
     "start_time": "2025-02-20T04:29:09.561400",
     "status": "completed"
    },
    "tags": []
   },
   "source": [
    "## Some helpful Functions"
   ]
  },
  {
   "cell_type": "code",
   "execution_count": 8,
   "id": "234174dd",
   "metadata": {
    "execution": {
     "iopub.execute_input": "2025-02-20T04:29:09.589490Z",
     "iopub.status.busy": "2025-02-20T04:29:09.589285Z",
     "iopub.status.idle": "2025-02-20T04:29:09.593570Z",
     "shell.execute_reply": "2025-02-20T04:29:09.592953Z"
    },
    "papermill": {
     "duration": 0.015017,
     "end_time": "2025-02-20T04:29:09.594832",
     "exception": false,
     "start_time": "2025-02-20T04:29:09.579815",
     "status": "completed"
    },
    "tags": []
   },
   "outputs": [],
   "source": [
    "def calculate_loss(model, data):\n",
    "    total_loss = 0.0\n",
    "    total_samples = 0\n",
    "    \n",
    "    model.eval()  # Set the model to evaluation mode\n",
    "    \n",
    "    with torch.no_grad():  # Disable gradient calculation\n",
    "        for batch in data:\n",
    "            images, labels = batch\n",
    "            images, labels = images.to(device), labels.to(device)\n",
    "\n",
    "            outputs = model(images)  # Forward pass\n",
    "            loss = criterion(outputs, labels)  # Compute the loss\n",
    "            total_loss += loss.item() * labels.size(0)  # Accumulate the loss\n",
    "            total_samples += labels.size(0)  # Accumulate the number of samples\n",
    "    \n",
    "    model.train()  # Set the model back to training mode\n",
    "    return round(total_loss / total_samples, 4)  # Return the average loss"
   ]
  },
  {
   "cell_type": "code",
   "execution_count": 9,
   "id": "c7fc1076",
   "metadata": {
    "execution": {
     "iopub.execute_input": "2025-02-20T04:29:09.613475Z",
     "iopub.status.busy": "2025-02-20T04:29:09.613258Z",
     "iopub.status.idle": "2025-02-20T04:29:09.617319Z",
     "shell.execute_reply": "2025-02-20T04:29:09.616717Z"
    },
    "papermill": {
     "duration": 0.014818,
     "end_time": "2025-02-20T04:29:09.618478",
     "exception": false,
     "start_time": "2025-02-20T04:29:09.603660",
     "status": "completed"
    },
    "tags": []
   },
   "outputs": [],
   "source": [
    "def calculate_accuracy(model, data):\n",
    "    \n",
    "    correct = 0\n",
    "    total = 0\n",
    "    \n",
    "    model.eval()  # Set the model to evaluation mode\n",
    "    \n",
    "    with torch.no_grad():# Disable gradient calculation\n",
    "        for batch in data:\n",
    "            \n",
    "            images, labels = batch\n",
    "            images, labels = images.to(device), labels.to(device)\n",
    "\n",
    "            outputs = model(images)\n",
    "            # Convert to probabilities\n",
    "            # probabilities = F.softmax(outputs, dim=1)\n",
    "            \n",
    "            # Get the predicted class by selecting the class with the highest score\n",
    "            _, predicted = torch.max(outputs.data, 1)\n",
    "            total += labels.size(0)\n",
    "            \n",
    "            # Update the number of correctly predicted samples\n",
    "            correct += (predicted == labels).sum().item()\n",
    "    model.train()\n",
    "    return round(correct / total, 4) "
   ]
  },
  {
   "cell_type": "code",
   "execution_count": 10,
   "id": "6420f5a2",
   "metadata": {
    "execution": {
     "iopub.execute_input": "2025-02-20T04:29:09.637028Z",
     "iopub.status.busy": "2025-02-20T04:29:09.636824Z",
     "iopub.status.idle": "2025-02-20T04:29:09.641827Z",
     "shell.execute_reply": "2025-02-20T04:29:09.641203Z"
    },
    "papermill": {
     "duration": 0.015441,
     "end_time": "2025-02-20T04:29:09.642994",
     "exception": false,
     "start_time": "2025-02-20T04:29:09.627553",
     "status": "completed"
    },
    "tags": []
   },
   "outputs": [],
   "source": [
    "def train_model(model,optimizer, train_data, valid_data, epochs):\n",
    "\n",
    "    # Lists to store losses and accuracies\n",
    "    train_losses = []\n",
    "    train_accuracies = []\n",
    "    val_losses = []\n",
    "    val_accuracies = []\n",
    "    \n",
    "    for epoch in range(epochs):  # loop over the dataset multiple times\n",
    "        for  batch in train_data:\n",
    "            # get the inputs\n",
    "            inputs, labels = batch\n",
    "            inputs, labels = inputs.to(device), labels.to(device)\n",
    "    \n",
    "            # zero the parameter gradients\n",
    "            optimizer.zero_grad()\n",
    "    \n",
    "            # forward + backward + optimize\n",
    "            outputs = model(inputs)\n",
    "            loss = criterion(outputs, labels)\n",
    "            loss.backward()\n",
    "            optimizer.step()\n",
    "    \n",
    "        # Calculate training and validation loss and accuracy\n",
    "        train_loss = calculate_loss(model, train_data)\n",
    "        train_accuracy = calculate_accuracy(model, train_data)\n",
    "        val_loss = calculate_loss(model, valid_data)\n",
    "        val_accuracy = calculate_accuracy(model, valid_data)\n",
    "    \n",
    "        # Append the values to the lists\n",
    "        train_losses.append(train_loss)\n",
    "        train_accuracies.append(train_accuracy)\n",
    "        val_losses.append(val_loss)\n",
    "        val_accuracies.append(val_accuracy)\n",
    "    \n",
    "        # print statistics\n",
    "        print(f\"Epoch [{epoch + 1}/{epochs}]\")\n",
    "        print(f\"Training Loss = {train_loss}, Training Accuracy = {train_accuracy}\")\n",
    "        print(f\"Validation Loss = {val_loss}, Validation Accuracy = {val_accuracy}\")\n",
    "        print(\"\\n\")\n",
    "    print(\"Done!!!\")\n",
    "    return  train_losses, train_accuracies, val_losses, val_accuracies "
   ]
  },
  {
   "cell_type": "code",
   "execution_count": 11,
   "id": "f9984237",
   "metadata": {
    "execution": {
     "iopub.execute_input": "2025-02-20T04:29:09.661270Z",
     "iopub.status.busy": "2025-02-20T04:29:09.661077Z",
     "iopub.status.idle": "2025-02-20T04:29:09.664634Z",
     "shell.execute_reply": "2025-02-20T04:29:09.664050Z"
    },
    "papermill": {
     "duration": 0.014177,
     "end_time": "2025-02-20T04:29:09.665956",
     "exception": false,
     "start_time": "2025-02-20T04:29:09.651779",
     "status": "completed"
    },
    "tags": []
   },
   "outputs": [],
   "source": [
    "def eff_train_model(model,optimizer, train_data,  epochs):\n",
    "\n",
    "    for epoch in range(epochs):  # loop over the dataset multiple times\n",
    "        for  batch in train_data:\n",
    "            # get the inputs\n",
    "            inputs, labels = batch\n",
    "            inputs, labels = inputs.to(device), labels.to(device)\n",
    "    \n",
    "            # zero the parameter gradients\n",
    "            optimizer.zero_grad()\n",
    "    \n",
    "            # forward + backward + optimize\n",
    "            outputs = model(inputs)\n",
    "            loss = criterion(outputs, labels)\n",
    "            loss.backward()\n",
    "            optimizer.step()"
   ]
  },
  {
   "cell_type": "markdown",
   "id": "3d77cc8e",
   "metadata": {
    "papermill": {
     "duration": 0.00861,
     "end_time": "2025-02-20T04:29:09.683584",
     "exception": false,
     "start_time": "2025-02-20T04:29:09.674974",
     "status": "completed"
    },
    "tags": []
   },
   "source": [
    "## Frist time training (with out data augmentation)"
   ]
  },
  {
   "cell_type": "code",
   "execution_count": 12,
   "id": "30c5f19d",
   "metadata": {
    "execution": {
     "iopub.execute_input": "2025-02-20T04:29:09.701937Z",
     "iopub.status.busy": "2025-02-20T04:29:09.701697Z",
     "iopub.status.idle": "2025-02-20T04:29:09.705557Z",
     "shell.execute_reply": "2025-02-20T04:29:09.704764Z"
    },
    "papermill": {
     "duration": 0.014327,
     "end_time": "2025-02-20T04:29:09.706764",
     "exception": false,
     "start_time": "2025-02-20T04:29:09.692437",
     "status": "completed"
    },
    "tags": []
   },
   "outputs": [],
   "source": [
    "batch_size = 16\n",
    "\n",
    "train_loader = torch.utils.data.DataLoader(training_set, batch_size = batch_size)\n",
    "\n",
    "test_loader = torch.utils.data.DataLoader(test_set, batch_size = batch_size)\n",
    "\n",
    "valid_loader = torch.utils.data.DataLoader(validation_set, batch_size = batch_size)"
   ]
  },
  {
   "cell_type": "code",
   "execution_count": 13,
   "id": "37aec746",
   "metadata": {
    "execution": {
     "iopub.execute_input": "2025-02-20T04:29:09.725324Z",
     "iopub.status.busy": "2025-02-20T04:29:09.725109Z",
     "iopub.status.idle": "2025-02-20T04:29:09.951417Z",
     "shell.execute_reply": "2025-02-20T04:29:09.950672Z"
    },
    "papermill": {
     "duration": 0.237083,
     "end_time": "2025-02-20T04:29:09.952842",
     "exception": false,
     "start_time": "2025-02-20T04:29:09.715759",
     "status": "completed"
    },
    "tags": []
   },
   "outputs": [
    {
     "data": {
      "text/plain": [
       "Model(\n",
       "  (conv1): Conv2d(3, 32, kernel_size=(3, 3), stride=(1, 1))\n",
       "  (conv2): Conv2d(32, 64, kernel_size=(3, 3), stride=(1, 1))\n",
       "  (conv3): Conv2d(64, 128, kernel_size=(3, 3), stride=(1, 1))\n",
       "  (pool): MaxPool2d(kernel_size=2, stride=2, padding=0, dilation=1, ceil_mode=False)\n",
       "  (fc1): Linear(in_features=512, out_features=256, bias=True)\n",
       "  (fc2): Linear(in_features=256, out_features=128, bias=True)\n",
       "  (fc3): Linear(in_features=128, out_features=10, bias=True)\n",
       "  (dropout): Dropout(p=0.1, inplace=False)\n",
       ")"
      ]
     },
     "execution_count": 13,
     "metadata": {},
     "output_type": "execute_result"
    }
   ],
   "source": [
    "model1 = Model()\n",
    "criterion = nn.CrossEntropyLoss()\n",
    "optimizer1 = optim.Adam(model1.parameters(), weight_decay=1e-4)\n",
    "\n",
    "device = torch.device(\"cuda\" if torch.cuda.is_available() else \"cpu\")\n",
    "model1.to(device)"
   ]
  },
  {
   "cell_type": "code",
   "execution_count": 14,
   "id": "bcfdff8d",
   "metadata": {
    "execution": {
     "iopub.execute_input": "2025-02-20T04:29:09.972914Z",
     "iopub.status.busy": "2025-02-20T04:29:09.972642Z",
     "iopub.status.idle": "2025-02-20T04:34:46.163344Z",
     "shell.execute_reply": "2025-02-20T04:34:46.162454Z"
    },
    "papermill": {
     "duration": 336.211121,
     "end_time": "2025-02-20T04:34:46.173321",
     "exception": false,
     "start_time": "2025-02-20T04:29:09.962200",
     "status": "completed"
    },
    "tags": []
   },
   "outputs": [
    {
     "name": "stdout",
     "output_type": "stream",
     "text": [
      "Epoch [1/10]\n",
      "Training Loss = 1.2909, Training Accuracy = 0.5219\n",
      "Validation Loss = 1.3438, Validation Accuracy = 0.5056\n",
      "\n",
      "\n",
      "Epoch [2/10]\n",
      "Training Loss = 1.049, Training Accuracy = 0.6256\n",
      "Validation Loss = 1.1466, Validation Accuracy = 0.5944\n",
      "\n",
      "\n",
      "Epoch [3/10]\n",
      "Training Loss = 0.9025, Training Accuracy = 0.6776\n",
      "Validation Loss = 1.0542, Validation Accuracy = 0.6312\n",
      "\n",
      "\n",
      "Epoch [4/10]\n",
      "Training Loss = 0.8247, Training Accuracy = 0.7091\n",
      "Validation Loss = 0.9962, Validation Accuracy = 0.6504\n",
      "\n",
      "\n",
      "Epoch [5/10]\n",
      "Training Loss = 0.7753, Training Accuracy = 0.7277\n",
      "Validation Loss = 0.9823, Validation Accuracy = 0.667\n",
      "\n",
      "\n",
      "Epoch [6/10]\n",
      "Training Loss = 0.7604, Training Accuracy = 0.732\n",
      "Validation Loss = 1.0035, Validation Accuracy = 0.6574\n",
      "\n",
      "\n",
      "Epoch [7/10]\n",
      "Training Loss = 0.7106, Training Accuracy = 0.7497\n",
      "Validation Loss = 0.9908, Validation Accuracy = 0.6684\n",
      "\n",
      "\n",
      "Epoch [8/10]\n",
      "Training Loss = 0.6673, Training Accuracy = 0.7655\n",
      "Validation Loss = 0.98, Validation Accuracy = 0.6702\n",
      "\n",
      "\n",
      "Epoch [9/10]\n",
      "Training Loss = 0.6642, Training Accuracy = 0.7667\n",
      "Validation Loss = 1.003, Validation Accuracy = 0.67\n",
      "\n",
      "\n",
      "Epoch [10/10]\n",
      "Training Loss = 0.6191, Training Accuracy = 0.7825\n",
      "Validation Loss = 1.0, Validation Accuracy = 0.6772\n",
      "\n",
      "\n",
      "Done!!!\n",
      "CPU times: user 5min 32s, sys: 1.35 s, total: 5min 34s\n",
      "Wall time: 5min 36s\n"
     ]
    }
   ],
   "source": [
    "%%time\n",
    "train_losses, train_accuracies, val_losses, val_accuracies = train_model(\n",
    "                                model1, optimizer1, train_loader, valid_loader, 10 )"
   ]
  },
  {
   "cell_type": "code",
   "execution_count": 15,
   "id": "7abd7166",
   "metadata": {
    "execution": {
     "iopub.execute_input": "2025-02-20T04:34:46.193535Z",
     "iopub.status.busy": "2025-02-20T04:34:46.193264Z",
     "iopub.status.idle": "2025-02-20T04:34:46.382576Z",
     "shell.execute_reply": "2025-02-20T04:34:46.381804Z"
    },
    "papermill": {
     "duration": 0.201138,
     "end_time": "2025-02-20T04:34:46.383980",
     "exception": false,
     "start_time": "2025-02-20T04:34:46.182842",
     "status": "completed"
    },
    "tags": []
   },
   "outputs": [
    {
     "data": {
      "text/html": [
       "<iframe\n",
       "    scrolling=\"no\"\n",
       "    width=\"100%\"\n",
       "    height=\"545px\"\n",
       "    src=\"iframe_figures/figure_15.html\"\n",
       "    frameborder=\"0\"\n",
       "    allowfullscreen\n",
       "></iframe>\n"
      ]
     },
     "metadata": {},
     "output_type": "display_data"
    }
   ],
   "source": [
    "epochs = list(range(1, len(train_losses) + 1))  # Epoch numbers\n",
    "fig_loss = px.line(x=epochs, y=[train_losses, val_losses], \n",
    "                   title='Training and Validation Loss',\n",
    "                   labels={'x': 'Epoch', 'y': 'Loss',\n",
    "                           \"train_losses\": \"Training Loss\" , \"val_losses\":\"Validation Loss\" })\n",
    "\n",
    "fig_loss.show(renderer = \"iframe\")"
   ]
  },
  {
   "cell_type": "code",
   "execution_count": 16,
   "id": "7f3bd09b",
   "metadata": {
    "execution": {
     "iopub.execute_input": "2025-02-20T04:34:46.404400Z",
     "iopub.status.busy": "2025-02-20T04:34:46.404162Z",
     "iopub.status.idle": "2025-02-20T04:34:46.466247Z",
     "shell.execute_reply": "2025-02-20T04:34:46.465357Z"
    },
    "papermill": {
     "duration": 0.073442,
     "end_time": "2025-02-20T04:34:46.467439",
     "exception": false,
     "start_time": "2025-02-20T04:34:46.393997",
     "status": "completed"
    },
    "tags": []
   },
   "outputs": [
    {
     "data": {
      "text/html": [
       "<iframe\n",
       "    scrolling=\"no\"\n",
       "    width=\"100%\"\n",
       "    height=\"545px\"\n",
       "    src=\"iframe_figures/figure_16.html\"\n",
       "    frameborder=\"0\"\n",
       "    allowfullscreen\n",
       "></iframe>\n"
      ]
     },
     "metadata": {},
     "output_type": "display_data"
    }
   ],
   "source": [
    "fig_accuracy = px.line(x=epochs, y=[train_accuracies, val_accuracies], \n",
    "                       title='Training and Validation Accuracy',\n",
    "                       labels={'x': 'Epoch', 'y': 'Accuracy'})\n",
    "fig_accuracy.show(renderer = \"iframe\")"
   ]
  },
  {
   "cell_type": "markdown",
   "id": "d7bff382",
   "metadata": {
    "papermill": {
     "duration": 0.009483,
     "end_time": "2025-02-20T04:34:46.487138",
     "exception": false,
     "start_time": "2025-02-20T04:34:46.477655",
     "status": "completed"
    },
    "tags": []
   },
   "source": [
    "## Data Augmentation"
   ]
  },
  {
   "cell_type": "code",
   "execution_count": 17,
   "id": "e8c6f60e",
   "metadata": {
    "execution": {
     "iopub.execute_input": "2025-02-20T04:34:46.507275Z",
     "iopub.status.busy": "2025-02-20T04:34:46.507029Z",
     "iopub.status.idle": "2025-02-20T04:34:46.510455Z",
     "shell.execute_reply": "2025-02-20T04:34:46.509650Z"
    },
    "papermill": {
     "duration": 0.014834,
     "end_time": "2025-02-20T04:34:46.511622",
     "exception": false,
     "start_time": "2025-02-20T04:34:46.496788",
     "status": "completed"
    },
    "tags": []
   },
   "outputs": [],
   "source": [
    "horizontal_flip = transforms.Compose([\n",
    "    transforms.RandomHorizontalFlip(1),  # Randomly flip the image horizontally\n",
    "    transforms.ToTensor(),              # Convert the image to a PyTorch tensor\n",
    "])"
   ]
  },
  {
   "cell_type": "code",
   "execution_count": 18,
   "id": "ac71e417",
   "metadata": {
    "execution": {
     "iopub.execute_input": "2025-02-20T04:34:46.531346Z",
     "iopub.status.busy": "2025-02-20T04:34:46.531150Z",
     "iopub.status.idle": "2025-02-20T04:34:46.534330Z",
     "shell.execute_reply": "2025-02-20T04:34:46.533758Z"
    },
    "papermill": {
     "duration": 0.014424,
     "end_time": "2025-02-20T04:34:46.535559",
     "exception": false,
     "start_time": "2025-02-20T04:34:46.521135",
     "status": "completed"
    },
    "tags": []
   },
   "outputs": [],
   "source": [
    "# Define the transformations\n",
    "color_jitter = transforms.Compose([\n",
    "    transforms.ColorJitter(\n",
    "        brightness=0.3,  \n",
    "        contrast=0.3,   \n",
    "        saturation=0.3, \n",
    "        hue=0.2   \n",
    "    ),  # Randomly change the brightness, contrast, saturation, and hue\n",
    "    \n",
    "    transforms.ToTensor(),              # Convert the image to a PyTorch tensor\n",
    "])"
   ]
  },
  {
   "cell_type": "code",
   "execution_count": 19,
   "id": "aad4c155",
   "metadata": {
    "execution": {
     "iopub.execute_input": "2025-02-20T04:34:46.555387Z",
     "iopub.status.busy": "2025-02-20T04:34:46.555192Z",
     "iopub.status.idle": "2025-02-20T04:35:00.113757Z",
     "shell.execute_reply": "2025-02-20T04:35:00.113064Z"
    },
    "papermill": {
     "duration": 13.570136,
     "end_time": "2025-02-20T04:35:00.115338",
     "exception": false,
     "start_time": "2025-02-20T04:34:46.545202",
     "status": "completed"
    },
    "tags": []
   },
   "outputs": [
    {
     "name": "stdout",
     "output_type": "stream",
     "text": [
      "Downloading https://www.cs.toronto.edu/~kriz/cifar-10-python.tar.gz to ./data/cifar-10-python.tar.gz\n"
     ]
    },
    {
     "name": "stderr",
     "output_type": "stream",
     "text": [
      "100%|██████████| 170M/170M [00:10<00:00, 16.9MB/s]\n"
     ]
    },
    {
     "name": "stdout",
     "output_type": "stream",
     "text": [
      "Extracting ./data/cifar-10-python.tar.gz to ./data\n",
      "Files already downloaded and verified\n"
     ]
    }
   ],
   "source": [
    "# Load the dataset with transformations\n",
    "horizontally_flipped = torchvision.datasets.CIFAR10(root='./data', train=True, download=True, transform=horizontal_flip)\n",
    "color_jittered = torchvision.datasets.CIFAR10(root='./data', train=True, download=True, transform=color_jitter)"
   ]
  },
  {
   "cell_type": "code",
   "execution_count": 20,
   "id": "0ea9d60e",
   "metadata": {
    "execution": {
     "iopub.execute_input": "2025-02-20T04:35:00.144397Z",
     "iopub.status.busy": "2025-02-20T04:35:00.144127Z",
     "iopub.status.idle": "2025-02-20T04:35:00.527995Z",
     "shell.execute_reply": "2025-02-20T04:35:00.527224Z"
    },
    "papermill": {
     "duration": 0.399474,
     "end_time": "2025-02-20T04:35:00.529336",
     "exception": false,
     "start_time": "2025-02-20T04:35:00.129862",
     "status": "completed"
    },
    "tags": []
   },
   "outputs": [
    {
     "data": {
      "text/html": [
       "<iframe\n",
       "    scrolling=\"no\"\n",
       "    width=\"100%\"\n",
       "    height=\"545px\"\n",
       "    src=\"iframe_figures/figure_20.html\"\n",
       "    frameborder=\"0\"\n",
       "    allowfullscreen\n",
       "></iframe>\n"
      ]
     },
     "metadata": {},
     "output_type": "display_data"
    }
   ],
   "source": [
    "fig = sp.make_subplots(rows=4, cols=3, subplot_titles=[\"Original\", \"Flipped\", \"Color-Jittered\"])\n",
    "\n",
    "for i in range(4):\n",
    "    original_image = training_set[i][0]\n",
    "    flipped_image = horizontally_flipped[i][0]\n",
    "    color_jittered_image = color_jittered[i][0]\n",
    "    \n",
    "    # transpose it to (height, width, channels) instead of (channels, height, width)\n",
    "    original_image = original_image.numpy().transpose(1, 2, 0)\n",
    "    flipped_image = flipped_image.numpy().transpose(1, 2, 0)\n",
    "    color_jittered_image = color_jittered_image.numpy().transpose(1, 2, 0)\n",
    "    \n",
    "\n",
    "    \n",
    "    # Add each image to the subplots\n",
    "    fig.add_trace(px.imshow(original_image).data[0], row=i+1, col=1)\n",
    "    fig.add_trace(px.imshow(flipped_image).data[0], row=i+1, col=2)\n",
    "    fig.add_trace(px.imshow(color_jittered_image).data[0], row=i+1, col=3)\n",
    "\n",
    "\n",
    "\n",
    "fig.update_xaxes(showticklabels=False, showgrid=False, zeroline=False)\n",
    "fig.update_yaxes(showticklabels=False, showgrid=False, zeroline=False)\n",
    "\n",
    "\n",
    "fig.show(renderer = \"iframe\")"
   ]
  },
  {
   "cell_type": "code",
   "execution_count": 21,
   "id": "4df84dc8",
   "metadata": {
    "execution": {
     "iopub.execute_input": "2025-02-20T04:35:00.558687Z",
     "iopub.status.busy": "2025-02-20T04:35:00.558405Z",
     "iopub.status.idle": "2025-02-20T04:35:00.562284Z",
     "shell.execute_reply": "2025-02-20T04:35:00.561450Z"
    },
    "papermill": {
     "duration": 0.019735,
     "end_time": "2025-02-20T04:35:00.563437",
     "exception": false,
     "start_time": "2025-02-20T04:35:00.543702",
     "status": "completed"
    },
    "tags": []
   },
   "outputs": [],
   "source": [
    "combined_dataset = ConcatDataset([training_set, horizontally_flipped, color_jittered])\n",
    "\n",
    "augmented_loader = torch.utils.data.DataLoader(combined_dataset, batch_size = batch_size, shuffle = True)"
   ]
  },
  {
   "cell_type": "markdown",
   "id": "01b07187",
   "metadata": {
    "papermill": {
     "duration": 0.013584,
     "end_time": "2025-02-20T04:35:00.590853",
     "exception": false,
     "start_time": "2025-02-20T04:35:00.577269",
     "status": "completed"
    },
    "tags": []
   },
   "source": [
    "## Second Time Training (with data augmentation)"
   ]
  },
  {
   "cell_type": "code",
   "execution_count": 22,
   "id": "9115036e",
   "metadata": {
    "execution": {
     "iopub.execute_input": "2025-02-20T04:35:00.619195Z",
     "iopub.status.busy": "2025-02-20T04:35:00.618906Z",
     "iopub.status.idle": "2025-02-20T04:35:00.628242Z",
     "shell.execute_reply": "2025-02-20T04:35:00.627541Z"
    },
    "papermill": {
     "duration": 0.024884,
     "end_time": "2025-02-20T04:35:00.629464",
     "exception": false,
     "start_time": "2025-02-20T04:35:00.604580",
     "status": "completed"
    },
    "tags": []
   },
   "outputs": [
    {
     "data": {
      "text/plain": [
       "Model(\n",
       "  (conv1): Conv2d(3, 32, kernel_size=(3, 3), stride=(1, 1))\n",
       "  (conv2): Conv2d(32, 64, kernel_size=(3, 3), stride=(1, 1))\n",
       "  (conv3): Conv2d(64, 128, kernel_size=(3, 3), stride=(1, 1))\n",
       "  (pool): MaxPool2d(kernel_size=2, stride=2, padding=0, dilation=1, ceil_mode=False)\n",
       "  (fc1): Linear(in_features=512, out_features=256, bias=True)\n",
       "  (fc2): Linear(in_features=256, out_features=128, bias=True)\n",
       "  (fc3): Linear(in_features=128, out_features=10, bias=True)\n",
       "  (dropout): Dropout(p=0.1, inplace=False)\n",
       ")"
      ]
     },
     "execution_count": 22,
     "metadata": {},
     "output_type": "execute_result"
    }
   ],
   "source": [
    "model2 = Model()\n",
    "criterion = nn.CrossEntropyLoss()\n",
    "optimizer2 = optim.Adam(model2.parameters(),weight_decay=1e-4)\n",
    "\n",
    "model2.to(device)"
   ]
  },
  {
   "cell_type": "code",
   "execution_count": 23,
   "id": "0eb9fd04",
   "metadata": {
    "execution": {
     "iopub.execute_input": "2025-02-20T04:35:00.700243Z",
     "iopub.status.busy": "2025-02-20T04:35:00.699927Z",
     "iopub.status.idle": "2025-02-20T05:05:24.799583Z",
     "shell.execute_reply": "2025-02-20T05:05:24.798629Z"
    },
    "papermill": {
     "duration": 1824.171965,
     "end_time": "2025-02-20T05:05:24.815396",
     "exception": false,
     "start_time": "2025-02-20T04:35:00.643431",
     "status": "completed"
    },
    "tags": []
   },
   "outputs": [
    {
     "name": "stdout",
     "output_type": "stream",
     "text": [
      "Epoch [1/10]\n",
      "Training Loss = 1.0261, Training Accuracy = 0.6381\n",
      "Validation Loss = 1.0644, Validation Accuracy = 0.6218\n",
      "\n",
      "\n",
      "Epoch [2/10]\n",
      "Training Loss = 0.828, Training Accuracy = 0.7091\n",
      "Validation Loss = 0.9154, Validation Accuracy = 0.68\n",
      "\n",
      "\n",
      "Epoch [3/10]\n",
      "Training Loss = 0.7799, Training Accuracy = 0.7297\n",
      "Validation Loss = 0.883, Validation Accuracy = 0.695\n",
      "\n",
      "\n",
      "Epoch [4/10]\n",
      "Training Loss = 0.6816, Training Accuracy = 0.7605\n",
      "Validation Loss = 0.8126, Validation Accuracy = 0.7242\n",
      "\n",
      "\n",
      "Epoch [5/10]\n",
      "Training Loss = 0.6789, Training Accuracy = 0.7603\n",
      "Validation Loss = 0.83, Validation Accuracy = 0.7144\n",
      "\n",
      "\n",
      "Epoch [6/10]\n",
      "Training Loss = 0.605, Training Accuracy = 0.7907\n",
      "Validation Loss = 0.785, Validation Accuracy = 0.7328\n",
      "\n",
      "\n",
      "Epoch [7/10]\n",
      "Training Loss = 0.6099, Training Accuracy = 0.7853\n",
      "Validation Loss = 0.7857, Validation Accuracy = 0.7422\n",
      "\n",
      "\n",
      "Epoch [8/10]\n",
      "Training Loss = 0.5999, Training Accuracy = 0.7899\n",
      "Validation Loss = 0.7947, Validation Accuracy = 0.7262\n",
      "\n",
      "\n",
      "Epoch [9/10]\n",
      "Training Loss = 0.6043, Training Accuracy = 0.7873\n",
      "Validation Loss = 0.7926, Validation Accuracy = 0.734\n",
      "\n",
      "\n",
      "Epoch [10/10]\n",
      "Training Loss = 0.5674, Training Accuracy = 0.8029\n",
      "Validation Loss = 0.7743, Validation Accuracy = 0.7428\n",
      "\n",
      "\n",
      "Done!!!\n",
      "CPU times: user 30min 17s, sys: 3.85 s, total: 30min 20s\n",
      "Wall time: 30min 24s\n"
     ]
    }
   ],
   "source": [
    "%%time\n",
    "train_losses, train_accuracies, val_losses, val_accuracies = train_model(\n",
    "    model2, optimizer2, augmented_loader, valid_loader, 10)"
   ]
  },
  {
   "cell_type": "code",
   "execution_count": 24,
   "id": "1afa6bbf",
   "metadata": {
    "execution": {
     "iopub.execute_input": "2025-02-20T05:05:24.844848Z",
     "iopub.status.busy": "2025-02-20T05:05:24.844570Z",
     "iopub.status.idle": "2025-02-20T05:05:24.909417Z",
     "shell.execute_reply": "2025-02-20T05:05:24.908763Z"
    },
    "papermill": {
     "duration": 0.08084,
     "end_time": "2025-02-20T05:05:24.910657",
     "exception": false,
     "start_time": "2025-02-20T05:05:24.829817",
     "status": "completed"
    },
    "tags": []
   },
   "outputs": [
    {
     "data": {
      "text/html": [
       "<iframe\n",
       "    scrolling=\"no\"\n",
       "    width=\"100%\"\n",
       "    height=\"545px\"\n",
       "    src=\"iframe_figures/figure_24.html\"\n",
       "    frameborder=\"0\"\n",
       "    allowfullscreen\n",
       "></iframe>\n"
      ]
     },
     "metadata": {},
     "output_type": "display_data"
    }
   ],
   "source": [
    "epochs = list(range(1, len(train_losses) + 1))  # Epoch numbers\n",
    "fig_loss = px.line(x=epochs, y=[train_losses, val_losses], \n",
    "                   title='Training and Validation Loss',\n",
    "                   labels={'x': 'Epoch', 'y': 'Loss',\n",
    "                           \"train_losses\": \"Training Loss\" , \"val_losses\":\"Validation Loss\" })\n",
    "\n",
    "fig_loss.show(renderer = \"iframe\")"
   ]
  },
  {
   "cell_type": "code",
   "execution_count": 25,
   "id": "afaa037f",
   "metadata": {
    "execution": {
     "iopub.execute_input": "2025-02-20T05:05:24.941009Z",
     "iopub.status.busy": "2025-02-20T05:05:24.940744Z",
     "iopub.status.idle": "2025-02-20T05:05:25.000520Z",
     "shell.execute_reply": "2025-02-20T05:05:24.999815Z"
    },
    "papermill": {
     "duration": 0.076229,
     "end_time": "2025-02-20T05:05:25.001784",
     "exception": false,
     "start_time": "2025-02-20T05:05:24.925555",
     "status": "completed"
    },
    "tags": []
   },
   "outputs": [
    {
     "data": {
      "text/html": [
       "<iframe\n",
       "    scrolling=\"no\"\n",
       "    width=\"100%\"\n",
       "    height=\"545px\"\n",
       "    src=\"iframe_figures/figure_25.html\"\n",
       "    frameborder=\"0\"\n",
       "    allowfullscreen\n",
       "></iframe>\n"
      ]
     },
     "metadata": {},
     "output_type": "display_data"
    }
   ],
   "source": [
    "fig_accuracy = px.line(x = epochs, y = [train_accuracies, val_accuracies], \n",
    "                       title = 'Training and Validation Accuracy',\n",
    "                       labels = {'x': 'Epoch', 'y': 'Accuracy'})\n",
    "fig_accuracy.show(renderer = \"iframe\")"
   ]
  },
  {
   "cell_type": "markdown",
   "id": "1374974e",
   "metadata": {
    "papermill": {
     "duration": 0.014155,
     "end_time": "2025-02-20T05:05:25.030701",
     "exception": false,
     "start_time": "2025-02-20T05:05:25.016546",
     "status": "completed"
    },
    "tags": []
   },
   "source": [
    "## Hyperparameters Tuning"
   ]
  },
  {
   "cell_type": "code",
   "execution_count": 26,
   "id": "bf6fe45a",
   "metadata": {
    "execution": {
     "iopub.execute_input": "2025-02-20T05:05:25.060169Z",
     "iopub.status.busy": "2025-02-20T05:05:25.059947Z",
     "iopub.status.idle": "2025-02-20T05:05:25.065171Z",
     "shell.execute_reply": "2025-02-20T05:05:25.064402Z"
    },
    "papermill": {
     "duration": 0.021389,
     "end_time": "2025-02-20T05:05:25.066437",
     "exception": false,
     "start_time": "2025-02-20T05:05:25.045048",
     "status": "completed"
    },
    "tags": []
   },
   "outputs": [],
   "source": [
    "def objective(trial):\n",
    "    # conv1_out = trial.suggest_int(\"conv1_out\", 16, 64, step=16)\n",
    "    # conv2_out = trial.suggest_int(\"conv2_out\", 32, 128, step=32)\n",
    "    # conv3_out = trial.suggest_int(\"conv3_out\", 64, 256, step=64)\n",
    "    # kernel_size = trial.suggest_int(\"kernel_size\", 3, 5, step=2)\n",
    "    # pool_kernel = trial.suggest_int(\"pool_kernel\", 2, 3)\n",
    "    # pool_stride = trial.suggest_int(\"pool_stride\", 1, 2)\n",
    "    \n",
    "    # Suggest hyperparameters\n",
    "    fc1_out = trial.suggest_categorical(\"fc1_out\", [128, 256, 512, 1024])\n",
    "    fc2_out = trial.suggest_categorical(\"fc2_out\", [128, 256, 512, 1024])\n",
    "    dropout_rate = trial.suggest_float(\"dropout_rate\", 0.1, 0.4, step = 0.1)\n",
    "    lr = trial.suggest_float(\"lr\", 1e-4, 1e-2, log = True)\n",
    "    weight_decay = trial.suggest_float(\"weight_decay\", 1e-5, 1e-2, log = True)\n",
    "\n",
    "\n",
    "\n",
    "    # Create the model\n",
    "    model = Model( fc1_out = fc1_out, fc2_out = fc2_out, dropout_rate = dropout_rate)\n",
    "    model.to(device)\n",
    "    \n",
    "    # Define optimizer and loss function\n",
    "    optimizer = optim.Adam(model.parameters(), lr=lr, weight_decay=weight_decay)\n",
    "    criterion = nn.CrossEntropyLoss()\n",
    "\n",
    "    # Start with 3 epochs\n",
    "    epochs = 3\n",
    "    if trial.number > 15:  # After 15 trials, increase epochs for better evaluation\n",
    "        epochs = 6\n",
    "\n",
    "    eff_train_model( model, optimizer, train_loader, epochs ) # You should tune on the aug data\n",
    "\n",
    "    # Evaluate the model\n",
    "\n",
    "    return calculate_accuracy(model, valid_loader)  # Optuna will try to maximize this\n",
    "\n",
    "\n"
   ]
  },
  {
   "cell_type": "code",
   "execution_count": 27,
   "id": "cd675029",
   "metadata": {
    "execution": {
     "iopub.execute_input": "2025-02-20T05:05:25.096226Z",
     "iopub.status.busy": "2025-02-20T05:05:25.095999Z",
     "iopub.status.idle": "2025-02-20T05:37:09.367601Z",
     "shell.execute_reply": "2025-02-20T05:37:09.366713Z"
    },
    "papermill": {
     "duration": 1904.303431,
     "end_time": "2025-02-20T05:37:09.384433",
     "exception": false,
     "start_time": "2025-02-20T05:05:25.081002",
     "status": "completed"
    },
    "tags": []
   },
   "outputs": [
    {
     "name": "stderr",
     "output_type": "stream",
     "text": [
      "[I 2025-02-20 05:05:25,097] A new study created in memory with name: no-name-89523e18-8358-4509-b4ad-395f4f853f3f\n",
      "[I 2025-02-20 05:06:08,810] Trial 0 finished with value: 0.5516 and parameters: {'fc1_out': 1024, 'fc2_out': 256, 'dropout_rate': 0.1, 'lr': 0.00012931209711514535, 'weight_decay': 0.0001693509425127196}. Best is trial 0 with value: 0.5516.\n",
      "[I 2025-02-20 05:06:52,424] Trial 1 finished with value: 0.0968 and parameters: {'fc1_out': 1024, 'fc2_out': 512, 'dropout_rate': 0.1, 'lr': 0.009015084392191357, 'weight_decay': 0.001801081854020808}. Best is trial 0 with value: 0.5516.\n",
      "[I 2025-02-20 05:07:35,900] Trial 2 finished with value: 0.5018 and parameters: {'fc1_out': 512, 'fc2_out': 256, 'dropout_rate': 0.4, 'lr': 0.00010815146575958575, 'weight_decay': 7.224919339827433e-05}. Best is trial 0 with value: 0.5516.\n",
      "[I 2025-02-20 05:08:19,463] Trial 3 finished with value: 0.0968 and parameters: {'fc1_out': 128, 'fc2_out': 512, 'dropout_rate': 0.1, 'lr': 0.0027696441308639867, 'weight_decay': 0.005024401300210677}. Best is trial 0 with value: 0.5516.\n",
      "[I 2025-02-20 05:09:02,948] Trial 4 finished with value: 0.5122 and parameters: {'fc1_out': 512, 'fc2_out': 256, 'dropout_rate': 0.1, 'lr': 0.002093849242092799, 'weight_decay': 6.491137184536841e-05}. Best is trial 0 with value: 0.5516.\n",
      "[I 2025-02-20 05:09:46,481] Trial 5 finished with value: 0.417 and parameters: {'fc1_out': 128, 'fc2_out': 128, 'dropout_rate': 0.4, 'lr': 0.002693579680672126, 'weight_decay': 0.00028601502228743045}. Best is trial 0 with value: 0.5516.\n",
      "[I 2025-02-20 05:10:29,926] Trial 6 finished with value: 0.597 and parameters: {'fc1_out': 512, 'fc2_out': 128, 'dropout_rate': 0.2, 'lr': 0.0003256956730054282, 'weight_decay': 4.7208997594846255e-05}. Best is trial 6 with value: 0.597.\n",
      "[I 2025-02-20 05:11:13,321] Trial 7 finished with value: 0.0992 and parameters: {'fc1_out': 128, 'fc2_out': 128, 'dropout_rate': 0.2, 'lr': 0.005906640683772168, 'weight_decay': 7.390056231375072e-05}. Best is trial 6 with value: 0.597.\n",
      "[I 2025-02-20 05:11:56,715] Trial 8 finished with value: 0.0968 and parameters: {'fc1_out': 512, 'fc2_out': 512, 'dropout_rate': 0.30000000000000004, 'lr': 0.0030407000981434915, 'weight_decay': 4.805951285095655e-05}. Best is trial 6 with value: 0.597.\n",
      "[I 2025-02-20 05:12:40,146] Trial 9 finished with value: 0.4118 and parameters: {'fc1_out': 128, 'fc2_out': 256, 'dropout_rate': 0.4, 'lr': 0.003458158135206987, 'weight_decay': 0.0005773981055865227}. Best is trial 6 with value: 0.597.\n",
      "[I 2025-02-20 05:13:23,844] Trial 10 finished with value: 0.6398 and parameters: {'fc1_out': 256, 'fc2_out': 1024, 'dropout_rate': 0.2, 'lr': 0.00042262756398857694, 'weight_decay': 1.4534587812816347e-05}. Best is trial 10 with value: 0.6398.\n",
      "[I 2025-02-20 05:14:07,642] Trial 11 finished with value: 0.6262 and parameters: {'fc1_out': 256, 'fc2_out': 1024, 'dropout_rate': 0.2, 'lr': 0.0003826223240027086, 'weight_decay': 1.135975715390624e-05}. Best is trial 10 with value: 0.6398.\n",
      "[I 2025-02-20 05:14:51,037] Trial 12 finished with value: 0.613 and parameters: {'fc1_out': 256, 'fc2_out': 1024, 'dropout_rate': 0.2, 'lr': 0.0005612447691677615, 'weight_decay': 1.0181995069326235e-05}. Best is trial 10 with value: 0.6398.\n",
      "[I 2025-02-20 05:15:34,685] Trial 13 finished with value: 0.6204 and parameters: {'fc1_out': 256, 'fc2_out': 1024, 'dropout_rate': 0.30000000000000004, 'lr': 0.0003386775237483536, 'weight_decay': 1.3416400844840061e-05}. Best is trial 10 with value: 0.6398.\n",
      "[I 2025-02-20 05:16:18,453] Trial 14 finished with value: 0.6122 and parameters: {'fc1_out': 256, 'fc2_out': 1024, 'dropout_rate': 0.30000000000000004, 'lr': 0.0009266831721613389, 'weight_decay': 1.7673480724087604e-05}. Best is trial 10 with value: 0.6398.\n",
      "[I 2025-02-20 05:17:02,159] Trial 15 finished with value: 0.6038 and parameters: {'fc1_out': 256, 'fc2_out': 1024, 'dropout_rate': 0.2, 'lr': 0.00022409590386925462, 'weight_decay': 2.4731817166712654e-05}. Best is trial 10 with value: 0.6398.\n",
      "[I 2025-02-20 05:18:28,485] Trial 16 finished with value: 0.6416 and parameters: {'fc1_out': 256, 'fc2_out': 1024, 'dropout_rate': 0.2, 'lr': 0.0010332256892651016, 'weight_decay': 2.50761424429038e-05}. Best is trial 16 with value: 0.6416.\n",
      "[I 2025-02-20 05:19:54,823] Trial 17 finished with value: 0.6206 and parameters: {'fc1_out': 256, 'fc2_out': 1024, 'dropout_rate': 0.30000000000000004, 'lr': 0.001279101160569983, 'weight_decay': 0.000749452470228073}. Best is trial 16 with value: 0.6416.\n",
      "[I 2025-02-20 05:21:21,012] Trial 18 finished with value: 0.6652 and parameters: {'fc1_out': 256, 'fc2_out': 1024, 'dropout_rate': 0.2, 'lr': 0.0009325086543821963, 'weight_decay': 0.00014828624149254723}. Best is trial 18 with value: 0.6652.\n",
      "[I 2025-02-20 05:22:47,280] Trial 19 finished with value: 0.6692 and parameters: {'fc1_out': 256, 'fc2_out': 1024, 'dropout_rate': 0.30000000000000004, 'lr': 0.0009607021664627644, 'weight_decay': 0.00016282382097596303}. Best is trial 19 with value: 0.6692.\n",
      "[I 2025-02-20 05:24:13,797] Trial 20 finished with value: 0.6782 and parameters: {'fc1_out': 1024, 'fc2_out': 1024, 'dropout_rate': 0.30000000000000004, 'lr': 0.0006546600869127477, 'weight_decay': 0.00018412467473748247}. Best is trial 20 with value: 0.6782.\n",
      "[I 2025-02-20 05:25:40,206] Trial 21 finished with value: 0.6642 and parameters: {'fc1_out': 1024, 'fc2_out': 1024, 'dropout_rate': 0.30000000000000004, 'lr': 0.0006406260614132288, 'weight_decay': 0.00018172854811261194}. Best is trial 20 with value: 0.6782.\n",
      "[I 2025-02-20 05:27:06,149] Trial 22 finished with value: 0.5784 and parameters: {'fc1_out': 1024, 'fc2_out': 1024, 'dropout_rate': 0.30000000000000004, 'lr': 0.0016887299021700007, 'weight_decay': 0.00015111298894379574}. Best is trial 20 with value: 0.6782.\n",
      "[I 2025-02-20 05:28:32,604] Trial 23 finished with value: 0.6632 and parameters: {'fc1_out': 1024, 'fc2_out': 1024, 'dropout_rate': 0.30000000000000004, 'lr': 0.0007573056083170941, 'weight_decay': 0.0005402890074461242}. Best is trial 20 with value: 0.6782.\n",
      "[I 2025-02-20 05:29:58,999] Trial 24 finished with value: 0.6016 and parameters: {'fc1_out': 1024, 'fc2_out': 1024, 'dropout_rate': 0.4, 'lr': 0.0013419626374591113, 'weight_decay': 0.0002865219230497727}. Best is trial 20 with value: 0.6782.\n",
      "[I 2025-02-20 05:31:25,217] Trial 25 finished with value: 0.6854 and parameters: {'fc1_out': 256, 'fc2_out': 1024, 'dropout_rate': 0.30000000000000004, 'lr': 0.0005342926647907234, 'weight_decay': 0.0013137107177234666}. Best is trial 25 with value: 0.6854.\n",
      "[I 2025-02-20 05:32:51,060] Trial 26 finished with value: 0.5996 and parameters: {'fc1_out': 256, 'fc2_out': 1024, 'dropout_rate': 0.30000000000000004, 'lr': 0.0001876994190706941, 'weight_decay': 0.002299450373303765}. Best is trial 25 with value: 0.6854.\n",
      "[I 2025-02-20 05:34:17,238] Trial 27 finished with value: 0.6502 and parameters: {'fc1_out': 1024, 'fc2_out': 512, 'dropout_rate': 0.4, 'lr': 0.0005110718147661314, 'weight_decay': 0.001143625575024761}. Best is trial 25 with value: 0.6854.\n",
      "[I 2025-02-20 05:35:43,331] Trial 28 finished with value: 0.1006 and parameters: {'fc1_out': 256, 'fc2_out': 128, 'dropout_rate': 0.30000000000000004, 'lr': 0.00024728897888658894, 'weight_decay': 0.008078942000258044}. Best is trial 25 with value: 0.6854.\n",
      "[I 2025-02-20 05:37:09,363] Trial 29 finished with value: 0.5136 and parameters: {'fc1_out': 1024, 'fc2_out': 256, 'dropout_rate': 0.30000000000000004, 'lr': 0.00014550072819597727, 'weight_decay': 0.003638901540432483}. Best is trial 25 with value: 0.6854.\n"
     ]
    },
    {
     "name": "stdout",
     "output_type": "stream",
     "text": [
      "CPU times: user 31min 9s, sys: 14.3 s, total: 31min 23s\n",
      "Wall time: 31min 44s\n"
     ]
    }
   ],
   "source": [
    "%%time\n",
    "# Run the Optuna study\n",
    "study = optuna.create_study(direction = \"maximize\")\n",
    "study.optimize(objective, n_trials = 30 )"
   ]
  },
  {
   "cell_type": "code",
   "execution_count": 28,
   "id": "014d035f",
   "metadata": {
    "execution": {
     "iopub.execute_input": "2025-02-20T05:37:09.417103Z",
     "iopub.status.busy": "2025-02-20T05:37:09.416825Z",
     "iopub.status.idle": "2025-02-20T05:37:09.421219Z",
     "shell.execute_reply": "2025-02-20T05:37:09.420431Z"
    },
    "papermill": {
     "duration": 0.022143,
     "end_time": "2025-02-20T05:37:09.422492",
     "exception": false,
     "start_time": "2025-02-20T05:37:09.400349",
     "status": "completed"
    },
    "tags": []
   },
   "outputs": [
    {
     "name": "stdout",
     "output_type": "stream",
     "text": [
      "Best hyperparameters: {'fc1_out': 256, 'fc2_out': 1024, 'dropout_rate': 0.30000000000000004, 'lr': 0.0005342926647907234, 'weight_decay': 0.0013137107177234666}\n"
     ]
    }
   ],
   "source": [
    "# Print the best parameters\n",
    "best_params = study.best_params\n",
    "print(\"Best hyperparameters:\", best_params)"
   ]
  },
  {
   "cell_type": "markdown",
   "id": "a34686da",
   "metadata": {
    "papermill": {
     "duration": 0.017364,
     "end_time": "2025-02-20T05:37:09.455702",
     "exception": false,
     "start_time": "2025-02-20T05:37:09.438338",
     "status": "completed"
    },
    "tags": []
   },
   "source": [
    "## Last Time Training "
   ]
  },
  {
   "cell_type": "code",
   "execution_count": 29,
   "id": "cd9b8ece",
   "metadata": {
    "execution": {
     "iopub.execute_input": "2025-02-20T05:37:09.488437Z",
     "iopub.status.busy": "2025-02-20T05:37:09.488163Z",
     "iopub.status.idle": "2025-02-20T06:37:07.287440Z",
     "shell.execute_reply": "2025-02-20T06:37:07.286555Z"
    },
    "papermill": {
     "duration": 3597.834634,
     "end_time": "2025-02-20T06:37:07.306151",
     "exception": false,
     "start_time": "2025-02-20T05:37:09.471517",
     "status": "completed"
    },
    "tags": []
   },
   "outputs": [
    {
     "name": "stdout",
     "output_type": "stream",
     "text": [
      "Epoch [1/20]\n",
      "Training Loss = 1.2347, Training Accuracy = 0.5554\n",
      "Validation Loss = 1.2306, Validation Accuracy = 0.5516\n",
      "\n",
      "\n",
      "Epoch [2/20]\n",
      "Training Loss = 1.0132, Training Accuracy = 0.6456\n",
      "Validation Loss = 1.0405, Validation Accuracy = 0.6378\n",
      "\n",
      "\n",
      "Epoch [3/20]\n",
      "Training Loss = 0.883, Training Accuracy = 0.6945\n",
      "Validation Loss = 0.9181, Validation Accuracy = 0.6806\n",
      "\n",
      "\n",
      "Epoch [4/20]\n",
      "Training Loss = 0.8666, Training Accuracy = 0.6953\n",
      "Validation Loss = 0.9141, Validation Accuracy = 0.6802\n",
      "\n",
      "\n",
      "Epoch [5/20]\n",
      "Training Loss = 0.8175, Training Accuracy = 0.7196\n",
      "Validation Loss = 0.8766, Validation Accuracy = 0.7006\n",
      "\n",
      "\n",
      "Epoch [6/20]\n",
      "Training Loss = 0.7911, Training Accuracy = 0.7254\n",
      "Validation Loss = 0.8485, Validation Accuracy = 0.7076\n",
      "\n",
      "\n",
      "Epoch [7/20]\n",
      "Training Loss = 0.7939, Training Accuracy = 0.7276\n",
      "Validation Loss = 0.8573, Validation Accuracy = 0.7038\n",
      "\n",
      "\n",
      "Epoch [8/20]\n",
      "Training Loss = 0.7679, Training Accuracy = 0.7349\n",
      "Validation Loss = 0.8438, Validation Accuracy = 0.7104\n",
      "\n",
      "\n",
      "Epoch [9/20]\n",
      "Training Loss = 0.7124, Training Accuracy = 0.7564\n",
      "Validation Loss = 0.7874, Validation Accuracy = 0.7318\n",
      "\n",
      "\n",
      "Epoch [10/20]\n",
      "Training Loss = 0.7155, Training Accuracy = 0.7536\n",
      "Validation Loss = 0.7865, Validation Accuracy = 0.7304\n",
      "\n",
      "\n",
      "Epoch [11/20]\n",
      "Training Loss = 0.7471, Training Accuracy = 0.7451\n",
      "Validation Loss = 0.8149, Validation Accuracy = 0.7264\n",
      "\n",
      "\n",
      "Epoch [12/20]\n",
      "Training Loss = 0.6985, Training Accuracy = 0.7562\n",
      "Validation Loss = 0.7894, Validation Accuracy = 0.7326\n",
      "\n",
      "\n",
      "Epoch [13/20]\n",
      "Training Loss = 0.6998, Training Accuracy = 0.7584\n",
      "Validation Loss = 0.7915, Validation Accuracy = 0.7306\n",
      "\n",
      "\n",
      "Epoch [14/20]\n",
      "Training Loss = 0.7003, Training Accuracy = 0.7627\n",
      "Validation Loss = 0.7744, Validation Accuracy = 0.7394\n",
      "\n",
      "\n",
      "Epoch [15/20]\n",
      "Training Loss = 0.6475, Training Accuracy = 0.7799\n",
      "Validation Loss = 0.7425, Validation Accuracy = 0.7454\n",
      "\n",
      "\n",
      "Epoch [16/20]\n",
      "Training Loss = 0.6757, Training Accuracy = 0.7681\n",
      "Validation Loss = 0.7732, Validation Accuracy = 0.7368\n",
      "\n",
      "\n",
      "Epoch [17/20]\n",
      "Training Loss = 0.6785, Training Accuracy = 0.7685\n",
      "Validation Loss = 0.7763, Validation Accuracy = 0.7342\n",
      "\n",
      "\n",
      "Epoch [18/20]\n",
      "Training Loss = 0.6507, Training Accuracy = 0.7778\n",
      "Validation Loss = 0.7457, Validation Accuracy = 0.7464\n",
      "\n",
      "\n",
      "Epoch [19/20]\n",
      "Training Loss = 0.6376, Training Accuracy = 0.7834\n",
      "Validation Loss = 0.7371, Validation Accuracy = 0.751\n",
      "\n",
      "\n",
      "Epoch [20/20]\n",
      "Training Loss = 0.7072, Training Accuracy = 0.7536\n",
      "Validation Loss = 0.8069, Validation Accuracy = 0.7266\n",
      "\n",
      "\n",
      "Done!!!\n"
     ]
    },
    {
     "data": {
      "text/plain": [
       "([1.2347,\n",
       "  1.0132,\n",
       "  0.883,\n",
       "  0.8666,\n",
       "  0.8175,\n",
       "  0.7911,\n",
       "  0.7939,\n",
       "  0.7679,\n",
       "  0.7124,\n",
       "  0.7155,\n",
       "  0.7471,\n",
       "  0.6985,\n",
       "  0.6998,\n",
       "  0.7003,\n",
       "  0.6475,\n",
       "  0.6757,\n",
       "  0.6785,\n",
       "  0.6507,\n",
       "  0.6376,\n",
       "  0.7072],\n",
       " [0.5554,\n",
       "  0.6456,\n",
       "  0.6945,\n",
       "  0.6953,\n",
       "  0.7196,\n",
       "  0.7254,\n",
       "  0.7276,\n",
       "  0.7349,\n",
       "  0.7564,\n",
       "  0.7536,\n",
       "  0.7451,\n",
       "  0.7562,\n",
       "  0.7584,\n",
       "  0.7627,\n",
       "  0.7799,\n",
       "  0.7681,\n",
       "  0.7685,\n",
       "  0.7778,\n",
       "  0.7834,\n",
       "  0.7536],\n",
       " [1.2306,\n",
       "  1.0405,\n",
       "  0.9181,\n",
       "  0.9141,\n",
       "  0.8766,\n",
       "  0.8485,\n",
       "  0.8573,\n",
       "  0.8438,\n",
       "  0.7874,\n",
       "  0.7865,\n",
       "  0.8149,\n",
       "  0.7894,\n",
       "  0.7915,\n",
       "  0.7744,\n",
       "  0.7425,\n",
       "  0.7732,\n",
       "  0.7763,\n",
       "  0.7457,\n",
       "  0.7371,\n",
       "  0.8069],\n",
       " [0.5516,\n",
       "  0.6378,\n",
       "  0.6806,\n",
       "  0.6802,\n",
       "  0.7006,\n",
       "  0.7076,\n",
       "  0.7038,\n",
       "  0.7104,\n",
       "  0.7318,\n",
       "  0.7304,\n",
       "  0.7264,\n",
       "  0.7326,\n",
       "  0.7306,\n",
       "  0.7394,\n",
       "  0.7454,\n",
       "  0.7368,\n",
       "  0.7342,\n",
       "  0.7464,\n",
       "  0.751,\n",
       "  0.7266])"
      ]
     },
     "execution_count": 29,
     "metadata": {},
     "output_type": "execute_result"
    }
   ],
   "source": [
    "# Create a new model using the best hyperparameters\n",
    "model3 = Model(\n",
    "    fc1_out = best_params[\"fc1_out\"],\n",
    "    fc2_out = best_params[\"fc2_out\"],\n",
    "    dropout_rate = best_params[\"dropout_rate\"]\n",
    ")\n",
    "model3.to(device)\n",
    "\n",
    "# Define optimizer and loss function\n",
    "optimizer3 = optim.Adam(model3.parameters(), \n",
    "                            lr=best_params[\"lr\"], \n",
    "                            weight_decay=best_params[\"weight_decay\"])\n",
    "\n",
    "# Train the new model\n",
    "train_model(model3, optimizer3, augmented_loader, valid_loader, 20)\n"
   ]
  },
  {
   "cell_type": "code",
   "execution_count": 30,
   "id": "fedc2239",
   "metadata": {
    "execution": {
     "iopub.execute_input": "2025-02-20T06:37:07.341142Z",
     "iopub.status.busy": "2025-02-20T06:37:07.340906Z",
     "iopub.status.idle": "2025-02-20T06:37:07.404129Z",
     "shell.execute_reply": "2025-02-20T06:37:07.403435Z"
    },
    "papermill": {
     "duration": 0.082194,
     "end_time": "2025-02-20T06:37:07.405412",
     "exception": false,
     "start_time": "2025-02-20T06:37:07.323218",
     "status": "completed"
    },
    "tags": []
   },
   "outputs": [
    {
     "data": {
      "text/html": [
       "<iframe\n",
       "    scrolling=\"no\"\n",
       "    width=\"100%\"\n",
       "    height=\"545px\"\n",
       "    src=\"iframe_figures/figure_30.html\"\n",
       "    frameborder=\"0\"\n",
       "    allowfullscreen\n",
       "></iframe>\n"
      ]
     },
     "metadata": {},
     "output_type": "display_data"
    }
   ],
   "source": [
    "epochs = list(range(1, len(train_losses) + 1))  # Epoch numbers\n",
    "fig_loss = px.line(x=epochs, y=[train_losses, val_losses], \n",
    "                   title='Training and Validation Loss',\n",
    "                   labels={'x': 'Epoch', 'y': 'Loss',\n",
    "                           \"train_losses\": \"Training Loss\" , \"val_losses\":\"Validation Loss\" })\n",
    "\n",
    "fig_loss.show(renderer = \"iframe\")"
   ]
  },
  {
   "cell_type": "code",
   "execution_count": 31,
   "id": "89262e05",
   "metadata": {
    "execution": {
     "iopub.execute_input": "2025-02-20T06:37:07.440261Z",
     "iopub.status.busy": "2025-02-20T06:37:07.440048Z",
     "iopub.status.idle": "2025-02-20T06:37:07.500782Z",
     "shell.execute_reply": "2025-02-20T06:37:07.499998Z"
    },
    "papermill": {
     "duration": 0.079512,
     "end_time": "2025-02-20T06:37:07.502122",
     "exception": false,
     "start_time": "2025-02-20T06:37:07.422610",
     "status": "completed"
    },
    "tags": []
   },
   "outputs": [
    {
     "data": {
      "text/html": [
       "<iframe\n",
       "    scrolling=\"no\"\n",
       "    width=\"100%\"\n",
       "    height=\"545px\"\n",
       "    src=\"iframe_figures/figure_31.html\"\n",
       "    frameborder=\"0\"\n",
       "    allowfullscreen\n",
       "></iframe>\n"
      ]
     },
     "metadata": {},
     "output_type": "display_data"
    }
   ],
   "source": [
    "fig_accuracy = px.line(x = epochs, y = [train_accuracies, val_accuracies], \n",
    "                       title = 'Training and Validation Accuracy',\n",
    "                       labels = {'x': 'Epoch', 'y': 'Accuracy'})\n",
    "fig_accuracy.show(renderer = \"iframe\")"
   ]
  },
  {
   "cell_type": "markdown",
   "id": "17fb3fea",
   "metadata": {
    "papermill": {
     "duration": 0.016743,
     "end_time": "2025-02-20T06:37:07.536279",
     "exception": false,
     "start_time": "2025-02-20T06:37:07.519536",
     "status": "completed"
    },
    "tags": []
   },
   "source": [
    "## Test set evaluation"
   ]
  },
  {
   "cell_type": "code",
   "execution_count": 32,
   "id": "ebeb4c73",
   "metadata": {
    "execution": {
     "iopub.execute_input": "2025-02-20T06:37:07.571046Z",
     "iopub.status.busy": "2025-02-20T06:37:07.570811Z",
     "iopub.status.idle": "2025-02-20T06:37:08.452419Z",
     "shell.execute_reply": "2025-02-20T06:37:08.451604Z"
    },
    "papermill": {
     "duration": 0.900314,
     "end_time": "2025-02-20T06:37:08.453657",
     "exception": false,
     "start_time": "2025-02-20T06:37:07.553343",
     "status": "completed"
    },
    "tags": []
   },
   "outputs": [
    {
     "data": {
      "text/plain": [
       "0.7306"
      ]
     },
     "execution_count": 32,
     "metadata": {},
     "output_type": "execute_result"
    }
   ],
   "source": [
    "calculate_accuracy(model3, test_loader)"
   ]
  }
 ],
 "metadata": {
  "kaggle": {
   "accelerator": "none",
   "dataSources": [],
   "dockerImageVersionId": 30886,
   "isGpuEnabled": false,
   "isInternetEnabled": true,
   "language": "python",
   "sourceType": "notebook"
  },
  "kernelspec": {
   "display_name": "Python 3",
   "language": "python",
   "name": "python3"
  },
  "language_info": {
   "codemirror_mode": {
    "name": "ipython",
    "version": 3
   },
   "file_extension": ".py",
   "mimetype": "text/x-python",
   "name": "python",
   "nbconvert_exporter": "python",
   "pygments_lexer": "ipython3",
   "version": "3.10.12"
  },
  "papermill": {
   "default_parameters": {},
   "duration": 7705.021708,
   "end_time": "2025-02-20T06:37:10.795653",
   "environment_variables": {},
   "exception": null,
   "input_path": "__notebook__.ipynb",
   "output_path": "__notebook__.ipynb",
   "parameters": {},
   "start_time": "2025-02-20T04:28:45.773945",
   "version": "2.6.0"
  }
 },
 "nbformat": 4,
 "nbformat_minor": 5
}
